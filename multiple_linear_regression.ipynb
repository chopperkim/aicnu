{
 "cells": [
  {
   "cell_type": "markdown",
   "metadata": {
    "collapsed": true,
    "pycharm": {
     "name": "#%% md\n"
    }
   },
   "source": [
    "## Multiple Linear Regression\n",
    "\n",
    "- In this practice, we are going to find regression model to predict profit of the startup company with various dependent variables such as R & D spend and Marketing spend.\n",
    "- For simplicity, we will not consider categorical value such as 'state'. Encoding categorical values will be covered in other tutorial.\n",
    "\n",
    "## Importing the libraries"
   ]
  },
  {
   "cell_type": "code",
   "execution_count": 1,
   "outputs": [],
   "source": [
    "import numpy as np\n",
    "import matplotlib.pyplot as plt\n",
    "import pandas as pd"
   ],
   "metadata": {
    "collapsed": false,
    "pycharm": {
     "name": "#%%\n"
    }
   }
  },
  {
   "cell_type": "markdown",
   "source": [
    "## Importing the dataset"
   ],
   "metadata": {
    "collapsed": false,
    "pycharm": {
     "name": "#%% md\n"
    }
   }
  },
  {
   "cell_type": "code",
   "execution_count": 12,
   "outputs": [
    {
     "data": {
      "text/plain": "    R&D Spend  Administration  Marketing Spend       State     Profit\n0   165349.20       136897.80        471784.10    New York  192261.83\n1   162597.70       151377.59        443898.53  California  191792.06\n2   153441.51       101145.55        407934.54     Florida  191050.39\n3   144372.41       118671.85        383199.62    New York  182901.99\n4   142107.34        91391.77        366168.42     Florida  166187.94\n5   131876.90        99814.71        362861.36    New York  156991.12\n6   134615.46       147198.87        127716.82  California  156122.51\n7   130298.13       145530.06        323876.68     Florida  155752.60\n8   120542.52       148718.95        311613.29    New York  152211.77\n9   123334.88       108679.17        304981.62  California  149759.96\n10  101913.08       110594.11        229160.95     Florida  146121.95\n11  100671.96        91790.61        249744.55  California  144259.40\n12   93863.75       127320.38        249839.44     Florida  141585.52\n13   91992.39       135495.07        252664.93  California  134307.35\n14  119943.24       156547.42        256512.92     Florida  132602.65\n15  114523.61       122616.84        261776.23    New York  129917.04\n16   78013.11       121597.55        264346.06  California  126992.93\n17   94657.16       145077.58        282574.31    New York  125370.37\n18   91749.16       114175.79        294919.57     Florida  124266.90\n19   86419.70       153514.11             0.00    New York  122776.86\n20   76253.86       113867.30        298664.47  California  118474.03\n21   78389.47       153773.43        299737.29    New York  111313.02\n22   73994.56       122782.75        303319.26     Florida  110352.25\n23   67532.53       105751.03        304768.73     Florida  108733.99\n24   77044.01        99281.34        140574.81    New York  108552.04\n25   64664.71       139553.16        137962.62  California  107404.34\n26   75328.87       144135.98        134050.07     Florida  105733.54\n27   72107.60       127864.55        353183.81    New York  105008.31\n28   66051.52       182645.56        118148.20     Florida  103282.38\n29   65605.48       153032.06        107138.38    New York  101004.64\n30   61994.48       115641.28         91131.24     Florida   99937.59\n31   61136.38       152701.92         88218.23    New York   97483.56\n32   63408.86       129219.61         46085.25  California   97427.84\n33   55493.95       103057.49        214634.81     Florida   96778.92\n34   46426.07       157693.92        210797.67  California   96712.80\n35   46014.02        85047.44        205517.64    New York   96479.51\n36   28663.76       127056.21        201126.82     Florida   90708.19\n37   44069.95        51283.14        197029.42  California   89949.14\n38   20229.59        65947.93        185265.10    New York   81229.06\n39   38558.51        82982.09        174999.30  California   81005.76\n40   28754.33       118546.05        172795.67  California   78239.91\n41   27892.92        84710.77        164470.71     Florida   77798.83\n42   23640.93        96189.63        148001.11  California   71498.49\n43   15505.73       127382.30         35534.17    New York   69758.98\n44   22177.74       154806.14         28334.72  California   65200.33\n45    1000.23       124153.04          1903.93    New York   64926.08\n46    1315.46       115816.21        297114.46     Florida   49490.75\n47       0.00       135426.92             0.00  California   42559.73\n48     542.05        51743.15             0.00    New York   35673.41\n49       0.00       116983.80         45173.06  California   14681.40",
      "text/html": "<div>\n<style scoped>\n    .dataframe tbody tr th:only-of-type {\n        vertical-align: middle;\n    }\n\n    .dataframe tbody tr th {\n        vertical-align: top;\n    }\n\n    .dataframe thead th {\n        text-align: right;\n    }\n</style>\n<table border=\"1\" class=\"dataframe\">\n  <thead>\n    <tr style=\"text-align: right;\">\n      <th></th>\n      <th>R&amp;D Spend</th>\n      <th>Administration</th>\n      <th>Marketing Spend</th>\n      <th>State</th>\n      <th>Profit</th>\n    </tr>\n  </thead>\n  <tbody>\n    <tr>\n      <th>0</th>\n      <td>165349.20</td>\n      <td>136897.80</td>\n      <td>471784.10</td>\n      <td>New York</td>\n      <td>192261.83</td>\n    </tr>\n    <tr>\n      <th>1</th>\n      <td>162597.70</td>\n      <td>151377.59</td>\n      <td>443898.53</td>\n      <td>California</td>\n      <td>191792.06</td>\n    </tr>\n    <tr>\n      <th>2</th>\n      <td>153441.51</td>\n      <td>101145.55</td>\n      <td>407934.54</td>\n      <td>Florida</td>\n      <td>191050.39</td>\n    </tr>\n    <tr>\n      <th>3</th>\n      <td>144372.41</td>\n      <td>118671.85</td>\n      <td>383199.62</td>\n      <td>New York</td>\n      <td>182901.99</td>\n    </tr>\n    <tr>\n      <th>4</th>\n      <td>142107.34</td>\n      <td>91391.77</td>\n      <td>366168.42</td>\n      <td>Florida</td>\n      <td>166187.94</td>\n    </tr>\n    <tr>\n      <th>5</th>\n      <td>131876.90</td>\n      <td>99814.71</td>\n      <td>362861.36</td>\n      <td>New York</td>\n      <td>156991.12</td>\n    </tr>\n    <tr>\n      <th>6</th>\n      <td>134615.46</td>\n      <td>147198.87</td>\n      <td>127716.82</td>\n      <td>California</td>\n      <td>156122.51</td>\n    </tr>\n    <tr>\n      <th>7</th>\n      <td>130298.13</td>\n      <td>145530.06</td>\n      <td>323876.68</td>\n      <td>Florida</td>\n      <td>155752.60</td>\n    </tr>\n    <tr>\n      <th>8</th>\n      <td>120542.52</td>\n      <td>148718.95</td>\n      <td>311613.29</td>\n      <td>New York</td>\n      <td>152211.77</td>\n    </tr>\n    <tr>\n      <th>9</th>\n      <td>123334.88</td>\n      <td>108679.17</td>\n      <td>304981.62</td>\n      <td>California</td>\n      <td>149759.96</td>\n    </tr>\n    <tr>\n      <th>10</th>\n      <td>101913.08</td>\n      <td>110594.11</td>\n      <td>229160.95</td>\n      <td>Florida</td>\n      <td>146121.95</td>\n    </tr>\n    <tr>\n      <th>11</th>\n      <td>100671.96</td>\n      <td>91790.61</td>\n      <td>249744.55</td>\n      <td>California</td>\n      <td>144259.40</td>\n    </tr>\n    <tr>\n      <th>12</th>\n      <td>93863.75</td>\n      <td>127320.38</td>\n      <td>249839.44</td>\n      <td>Florida</td>\n      <td>141585.52</td>\n    </tr>\n    <tr>\n      <th>13</th>\n      <td>91992.39</td>\n      <td>135495.07</td>\n      <td>252664.93</td>\n      <td>California</td>\n      <td>134307.35</td>\n    </tr>\n    <tr>\n      <th>14</th>\n      <td>119943.24</td>\n      <td>156547.42</td>\n      <td>256512.92</td>\n      <td>Florida</td>\n      <td>132602.65</td>\n    </tr>\n    <tr>\n      <th>15</th>\n      <td>114523.61</td>\n      <td>122616.84</td>\n      <td>261776.23</td>\n      <td>New York</td>\n      <td>129917.04</td>\n    </tr>\n    <tr>\n      <th>16</th>\n      <td>78013.11</td>\n      <td>121597.55</td>\n      <td>264346.06</td>\n      <td>California</td>\n      <td>126992.93</td>\n    </tr>\n    <tr>\n      <th>17</th>\n      <td>94657.16</td>\n      <td>145077.58</td>\n      <td>282574.31</td>\n      <td>New York</td>\n      <td>125370.37</td>\n    </tr>\n    <tr>\n      <th>18</th>\n      <td>91749.16</td>\n      <td>114175.79</td>\n      <td>294919.57</td>\n      <td>Florida</td>\n      <td>124266.90</td>\n    </tr>\n    <tr>\n      <th>19</th>\n      <td>86419.70</td>\n      <td>153514.11</td>\n      <td>0.00</td>\n      <td>New York</td>\n      <td>122776.86</td>\n    </tr>\n    <tr>\n      <th>20</th>\n      <td>76253.86</td>\n      <td>113867.30</td>\n      <td>298664.47</td>\n      <td>California</td>\n      <td>118474.03</td>\n    </tr>\n    <tr>\n      <th>21</th>\n      <td>78389.47</td>\n      <td>153773.43</td>\n      <td>299737.29</td>\n      <td>New York</td>\n      <td>111313.02</td>\n    </tr>\n    <tr>\n      <th>22</th>\n      <td>73994.56</td>\n      <td>122782.75</td>\n      <td>303319.26</td>\n      <td>Florida</td>\n      <td>110352.25</td>\n    </tr>\n    <tr>\n      <th>23</th>\n      <td>67532.53</td>\n      <td>105751.03</td>\n      <td>304768.73</td>\n      <td>Florida</td>\n      <td>108733.99</td>\n    </tr>\n    <tr>\n      <th>24</th>\n      <td>77044.01</td>\n      <td>99281.34</td>\n      <td>140574.81</td>\n      <td>New York</td>\n      <td>108552.04</td>\n    </tr>\n    <tr>\n      <th>25</th>\n      <td>64664.71</td>\n      <td>139553.16</td>\n      <td>137962.62</td>\n      <td>California</td>\n      <td>107404.34</td>\n    </tr>\n    <tr>\n      <th>26</th>\n      <td>75328.87</td>\n      <td>144135.98</td>\n      <td>134050.07</td>\n      <td>Florida</td>\n      <td>105733.54</td>\n    </tr>\n    <tr>\n      <th>27</th>\n      <td>72107.60</td>\n      <td>127864.55</td>\n      <td>353183.81</td>\n      <td>New York</td>\n      <td>105008.31</td>\n    </tr>\n    <tr>\n      <th>28</th>\n      <td>66051.52</td>\n      <td>182645.56</td>\n      <td>118148.20</td>\n      <td>Florida</td>\n      <td>103282.38</td>\n    </tr>\n    <tr>\n      <th>29</th>\n      <td>65605.48</td>\n      <td>153032.06</td>\n      <td>107138.38</td>\n      <td>New York</td>\n      <td>101004.64</td>\n    </tr>\n    <tr>\n      <th>30</th>\n      <td>61994.48</td>\n      <td>115641.28</td>\n      <td>91131.24</td>\n      <td>Florida</td>\n      <td>99937.59</td>\n    </tr>\n    <tr>\n      <th>31</th>\n      <td>61136.38</td>\n      <td>152701.92</td>\n      <td>88218.23</td>\n      <td>New York</td>\n      <td>97483.56</td>\n    </tr>\n    <tr>\n      <th>32</th>\n      <td>63408.86</td>\n      <td>129219.61</td>\n      <td>46085.25</td>\n      <td>California</td>\n      <td>97427.84</td>\n    </tr>\n    <tr>\n      <th>33</th>\n      <td>55493.95</td>\n      <td>103057.49</td>\n      <td>214634.81</td>\n      <td>Florida</td>\n      <td>96778.92</td>\n    </tr>\n    <tr>\n      <th>34</th>\n      <td>46426.07</td>\n      <td>157693.92</td>\n      <td>210797.67</td>\n      <td>California</td>\n      <td>96712.80</td>\n    </tr>\n    <tr>\n      <th>35</th>\n      <td>46014.02</td>\n      <td>85047.44</td>\n      <td>205517.64</td>\n      <td>New York</td>\n      <td>96479.51</td>\n    </tr>\n    <tr>\n      <th>36</th>\n      <td>28663.76</td>\n      <td>127056.21</td>\n      <td>201126.82</td>\n      <td>Florida</td>\n      <td>90708.19</td>\n    </tr>\n    <tr>\n      <th>37</th>\n      <td>44069.95</td>\n      <td>51283.14</td>\n      <td>197029.42</td>\n      <td>California</td>\n      <td>89949.14</td>\n    </tr>\n    <tr>\n      <th>38</th>\n      <td>20229.59</td>\n      <td>65947.93</td>\n      <td>185265.10</td>\n      <td>New York</td>\n      <td>81229.06</td>\n    </tr>\n    <tr>\n      <th>39</th>\n      <td>38558.51</td>\n      <td>82982.09</td>\n      <td>174999.30</td>\n      <td>California</td>\n      <td>81005.76</td>\n    </tr>\n    <tr>\n      <th>40</th>\n      <td>28754.33</td>\n      <td>118546.05</td>\n      <td>172795.67</td>\n      <td>California</td>\n      <td>78239.91</td>\n    </tr>\n    <tr>\n      <th>41</th>\n      <td>27892.92</td>\n      <td>84710.77</td>\n      <td>164470.71</td>\n      <td>Florida</td>\n      <td>77798.83</td>\n    </tr>\n    <tr>\n      <th>42</th>\n      <td>23640.93</td>\n      <td>96189.63</td>\n      <td>148001.11</td>\n      <td>California</td>\n      <td>71498.49</td>\n    </tr>\n    <tr>\n      <th>43</th>\n      <td>15505.73</td>\n      <td>127382.30</td>\n      <td>35534.17</td>\n      <td>New York</td>\n      <td>69758.98</td>\n    </tr>\n    <tr>\n      <th>44</th>\n      <td>22177.74</td>\n      <td>154806.14</td>\n      <td>28334.72</td>\n      <td>California</td>\n      <td>65200.33</td>\n    </tr>\n    <tr>\n      <th>45</th>\n      <td>1000.23</td>\n      <td>124153.04</td>\n      <td>1903.93</td>\n      <td>New York</td>\n      <td>64926.08</td>\n    </tr>\n    <tr>\n      <th>46</th>\n      <td>1315.46</td>\n      <td>115816.21</td>\n      <td>297114.46</td>\n      <td>Florida</td>\n      <td>49490.75</td>\n    </tr>\n    <tr>\n      <th>47</th>\n      <td>0.00</td>\n      <td>135426.92</td>\n      <td>0.00</td>\n      <td>California</td>\n      <td>42559.73</td>\n    </tr>\n    <tr>\n      <th>48</th>\n      <td>542.05</td>\n      <td>51743.15</td>\n      <td>0.00</td>\n      <td>New York</td>\n      <td>35673.41</td>\n    </tr>\n    <tr>\n      <th>49</th>\n      <td>0.00</td>\n      <td>116983.80</td>\n      <td>45173.06</td>\n      <td>California</td>\n      <td>14681.40</td>\n    </tr>\n  </tbody>\n</table>\n</div>"
     },
     "execution_count": 12,
     "metadata": {},
     "output_type": "execute_result"
    }
   ],
   "source": [
    "dataset = pd.read_csv('./data/50_Startups.csv')\n",
    "dataset"
   ],
   "metadata": {
    "collapsed": false,
    "pycharm": {
     "name": "#%%\n"
    }
   }
  },
  {
   "cell_type": "markdown",
   "source": [
    "Sklearn's regression models expect the shape of X and y as\n",
    "- X: [number_of_data, number_of_features]\n",
    "- y: [number_of_data]\n",
    "\n",
    "Therefore, we need to convert dataframe's result to correct numpy object."
   ],
   "metadata": {
    "collapsed": false,
    "pycharm": {
     "name": "#%% md\n"
    }
   }
  },
  {
   "cell_type": "code",
   "execution_count": 13,
   "outputs": [
    {
     "data": {
      "text/plain": "Index(['R&D Spend', 'Administration', 'Marketing Spend', 'State', 'Profit'], dtype='object')"
     },
     "execution_count": 13,
     "metadata": {},
     "output_type": "execute_result"
    }
   ],
   "source": [
    "dataset.columns"
   ],
   "metadata": {
    "collapsed": false,
    "pycharm": {
     "name": "#%%\n"
    }
   }
  },
  {
   "cell_type": "code",
   "execution_count": 14,
   "outputs": [
    {
     "data": {
      "text/plain": "    R&D Spend  Administration  Marketing Spend\n0   165349.20       136897.80        471784.10\n1   162597.70       151377.59        443898.53\n2   153441.51       101145.55        407934.54\n3   144372.41       118671.85        383199.62\n4   142107.34        91391.77        366168.42\n5   131876.90        99814.71        362861.36\n6   134615.46       147198.87        127716.82\n7   130298.13       145530.06        323876.68\n8   120542.52       148718.95        311613.29\n9   123334.88       108679.17        304981.62\n10  101913.08       110594.11        229160.95\n11  100671.96        91790.61        249744.55\n12   93863.75       127320.38        249839.44\n13   91992.39       135495.07        252664.93\n14  119943.24       156547.42        256512.92\n15  114523.61       122616.84        261776.23\n16   78013.11       121597.55        264346.06\n17   94657.16       145077.58        282574.31\n18   91749.16       114175.79        294919.57\n19   86419.70       153514.11             0.00\n20   76253.86       113867.30        298664.47\n21   78389.47       153773.43        299737.29\n22   73994.56       122782.75        303319.26\n23   67532.53       105751.03        304768.73\n24   77044.01        99281.34        140574.81\n25   64664.71       139553.16        137962.62\n26   75328.87       144135.98        134050.07\n27   72107.60       127864.55        353183.81\n28   66051.52       182645.56        118148.20\n29   65605.48       153032.06        107138.38\n30   61994.48       115641.28         91131.24\n31   61136.38       152701.92         88218.23\n32   63408.86       129219.61         46085.25\n33   55493.95       103057.49        214634.81\n34   46426.07       157693.92        210797.67\n35   46014.02        85047.44        205517.64\n36   28663.76       127056.21        201126.82\n37   44069.95        51283.14        197029.42\n38   20229.59        65947.93        185265.10\n39   38558.51        82982.09        174999.30\n40   28754.33       118546.05        172795.67\n41   27892.92        84710.77        164470.71\n42   23640.93        96189.63        148001.11\n43   15505.73       127382.30         35534.17\n44   22177.74       154806.14         28334.72\n45    1000.23       124153.04          1903.93\n46    1315.46       115816.21        297114.46\n47       0.00       135426.92             0.00\n48     542.05        51743.15             0.00\n49       0.00       116983.80         45173.06",
      "text/html": "<div>\n<style scoped>\n    .dataframe tbody tr th:only-of-type {\n        vertical-align: middle;\n    }\n\n    .dataframe tbody tr th {\n        vertical-align: top;\n    }\n\n    .dataframe thead th {\n        text-align: right;\n    }\n</style>\n<table border=\"1\" class=\"dataframe\">\n  <thead>\n    <tr style=\"text-align: right;\">\n      <th></th>\n      <th>R&amp;D Spend</th>\n      <th>Administration</th>\n      <th>Marketing Spend</th>\n    </tr>\n  </thead>\n  <tbody>\n    <tr>\n      <th>0</th>\n      <td>165349.20</td>\n      <td>136897.80</td>\n      <td>471784.10</td>\n    </tr>\n    <tr>\n      <th>1</th>\n      <td>162597.70</td>\n      <td>151377.59</td>\n      <td>443898.53</td>\n    </tr>\n    <tr>\n      <th>2</th>\n      <td>153441.51</td>\n      <td>101145.55</td>\n      <td>407934.54</td>\n    </tr>\n    <tr>\n      <th>3</th>\n      <td>144372.41</td>\n      <td>118671.85</td>\n      <td>383199.62</td>\n    </tr>\n    <tr>\n      <th>4</th>\n      <td>142107.34</td>\n      <td>91391.77</td>\n      <td>366168.42</td>\n    </tr>\n    <tr>\n      <th>5</th>\n      <td>131876.90</td>\n      <td>99814.71</td>\n      <td>362861.36</td>\n    </tr>\n    <tr>\n      <th>6</th>\n      <td>134615.46</td>\n      <td>147198.87</td>\n      <td>127716.82</td>\n    </tr>\n    <tr>\n      <th>7</th>\n      <td>130298.13</td>\n      <td>145530.06</td>\n      <td>323876.68</td>\n    </tr>\n    <tr>\n      <th>8</th>\n      <td>120542.52</td>\n      <td>148718.95</td>\n      <td>311613.29</td>\n    </tr>\n    <tr>\n      <th>9</th>\n      <td>123334.88</td>\n      <td>108679.17</td>\n      <td>304981.62</td>\n    </tr>\n    <tr>\n      <th>10</th>\n      <td>101913.08</td>\n      <td>110594.11</td>\n      <td>229160.95</td>\n    </tr>\n    <tr>\n      <th>11</th>\n      <td>100671.96</td>\n      <td>91790.61</td>\n      <td>249744.55</td>\n    </tr>\n    <tr>\n      <th>12</th>\n      <td>93863.75</td>\n      <td>127320.38</td>\n      <td>249839.44</td>\n    </tr>\n    <tr>\n      <th>13</th>\n      <td>91992.39</td>\n      <td>135495.07</td>\n      <td>252664.93</td>\n    </tr>\n    <tr>\n      <th>14</th>\n      <td>119943.24</td>\n      <td>156547.42</td>\n      <td>256512.92</td>\n    </tr>\n    <tr>\n      <th>15</th>\n      <td>114523.61</td>\n      <td>122616.84</td>\n      <td>261776.23</td>\n    </tr>\n    <tr>\n      <th>16</th>\n      <td>78013.11</td>\n      <td>121597.55</td>\n      <td>264346.06</td>\n    </tr>\n    <tr>\n      <th>17</th>\n      <td>94657.16</td>\n      <td>145077.58</td>\n      <td>282574.31</td>\n    </tr>\n    <tr>\n      <th>18</th>\n      <td>91749.16</td>\n      <td>114175.79</td>\n      <td>294919.57</td>\n    </tr>\n    <tr>\n      <th>19</th>\n      <td>86419.70</td>\n      <td>153514.11</td>\n      <td>0.00</td>\n    </tr>\n    <tr>\n      <th>20</th>\n      <td>76253.86</td>\n      <td>113867.30</td>\n      <td>298664.47</td>\n    </tr>\n    <tr>\n      <th>21</th>\n      <td>78389.47</td>\n      <td>153773.43</td>\n      <td>299737.29</td>\n    </tr>\n    <tr>\n      <th>22</th>\n      <td>73994.56</td>\n      <td>122782.75</td>\n      <td>303319.26</td>\n    </tr>\n    <tr>\n      <th>23</th>\n      <td>67532.53</td>\n      <td>105751.03</td>\n      <td>304768.73</td>\n    </tr>\n    <tr>\n      <th>24</th>\n      <td>77044.01</td>\n      <td>99281.34</td>\n      <td>140574.81</td>\n    </tr>\n    <tr>\n      <th>25</th>\n      <td>64664.71</td>\n      <td>139553.16</td>\n      <td>137962.62</td>\n    </tr>\n    <tr>\n      <th>26</th>\n      <td>75328.87</td>\n      <td>144135.98</td>\n      <td>134050.07</td>\n    </tr>\n    <tr>\n      <th>27</th>\n      <td>72107.60</td>\n      <td>127864.55</td>\n      <td>353183.81</td>\n    </tr>\n    <tr>\n      <th>28</th>\n      <td>66051.52</td>\n      <td>182645.56</td>\n      <td>118148.20</td>\n    </tr>\n    <tr>\n      <th>29</th>\n      <td>65605.48</td>\n      <td>153032.06</td>\n      <td>107138.38</td>\n    </tr>\n    <tr>\n      <th>30</th>\n      <td>61994.48</td>\n      <td>115641.28</td>\n      <td>91131.24</td>\n    </tr>\n    <tr>\n      <th>31</th>\n      <td>61136.38</td>\n      <td>152701.92</td>\n      <td>88218.23</td>\n    </tr>\n    <tr>\n      <th>32</th>\n      <td>63408.86</td>\n      <td>129219.61</td>\n      <td>46085.25</td>\n    </tr>\n    <tr>\n      <th>33</th>\n      <td>55493.95</td>\n      <td>103057.49</td>\n      <td>214634.81</td>\n    </tr>\n    <tr>\n      <th>34</th>\n      <td>46426.07</td>\n      <td>157693.92</td>\n      <td>210797.67</td>\n    </tr>\n    <tr>\n      <th>35</th>\n      <td>46014.02</td>\n      <td>85047.44</td>\n      <td>205517.64</td>\n    </tr>\n    <tr>\n      <th>36</th>\n      <td>28663.76</td>\n      <td>127056.21</td>\n      <td>201126.82</td>\n    </tr>\n    <tr>\n      <th>37</th>\n      <td>44069.95</td>\n      <td>51283.14</td>\n      <td>197029.42</td>\n    </tr>\n    <tr>\n      <th>38</th>\n      <td>20229.59</td>\n      <td>65947.93</td>\n      <td>185265.10</td>\n    </tr>\n    <tr>\n      <th>39</th>\n      <td>38558.51</td>\n      <td>82982.09</td>\n      <td>174999.30</td>\n    </tr>\n    <tr>\n      <th>40</th>\n      <td>28754.33</td>\n      <td>118546.05</td>\n      <td>172795.67</td>\n    </tr>\n    <tr>\n      <th>41</th>\n      <td>27892.92</td>\n      <td>84710.77</td>\n      <td>164470.71</td>\n    </tr>\n    <tr>\n      <th>42</th>\n      <td>23640.93</td>\n      <td>96189.63</td>\n      <td>148001.11</td>\n    </tr>\n    <tr>\n      <th>43</th>\n      <td>15505.73</td>\n      <td>127382.30</td>\n      <td>35534.17</td>\n    </tr>\n    <tr>\n      <th>44</th>\n      <td>22177.74</td>\n      <td>154806.14</td>\n      <td>28334.72</td>\n    </tr>\n    <tr>\n      <th>45</th>\n      <td>1000.23</td>\n      <td>124153.04</td>\n      <td>1903.93</td>\n    </tr>\n    <tr>\n      <th>46</th>\n      <td>1315.46</td>\n      <td>115816.21</td>\n      <td>297114.46</td>\n    </tr>\n    <tr>\n      <th>47</th>\n      <td>0.00</td>\n      <td>135426.92</td>\n      <td>0.00</td>\n    </tr>\n    <tr>\n      <th>48</th>\n      <td>542.05</td>\n      <td>51743.15</td>\n      <td>0.00</td>\n    </tr>\n    <tr>\n      <th>49</th>\n      <td>0.00</td>\n      <td>116983.80</td>\n      <td>45173.06</td>\n    </tr>\n  </tbody>\n</table>\n</div>"
     },
     "execution_count": 14,
     "metadata": {},
     "output_type": "execute_result"
    }
   ],
   "source": [
    "X_input = dataset[['R&D Spend', 'Administration', 'Marketing Spend']]   # do not use 'state'\n",
    "y_input = dataset['Profit']\n",
    "X_input"
   ],
   "metadata": {
    "collapsed": false,
    "pycharm": {
     "name": "#%%\n"
    }
   }
  },
  {
   "cell_type": "code",
   "execution_count": 15,
   "outputs": [
    {
     "data": {
      "text/plain": "0     192261.83\n1     191792.06\n2     191050.39\n3     182901.99\n4     166187.94\n5     156991.12\n6     156122.51\n7     155752.60\n8     152211.77\n9     149759.96\n10    146121.95\n11    144259.40\n12    141585.52\n13    134307.35\n14    132602.65\n15    129917.04\n16    126992.93\n17    125370.37\n18    124266.90\n19    122776.86\n20    118474.03\n21    111313.02\n22    110352.25\n23    108733.99\n24    108552.04\n25    107404.34\n26    105733.54\n27    105008.31\n28    103282.38\n29    101004.64\n30     99937.59\n31     97483.56\n32     97427.84\n33     96778.92\n34     96712.80\n35     96479.51\n36     90708.19\n37     89949.14\n38     81229.06\n39     81005.76\n40     78239.91\n41     77798.83\n42     71498.49\n43     69758.98\n44     65200.33\n45     64926.08\n46     49490.75\n47     42559.73\n48     35673.41\n49     14681.40\nName: Profit, dtype: float64"
     },
     "execution_count": 15,
     "metadata": {},
     "output_type": "execute_result"
    }
   ],
   "source": [
    "y_input"
   ],
   "metadata": {
    "collapsed": false,
    "pycharm": {
     "name": "#%%\n"
    }
   }
  },
  {
   "cell_type": "code",
   "execution_count": 16,
   "outputs": [
    {
     "name": "stdout",
     "output_type": "stream",
     "text": [
      "Shape of X:  (50, 3)\n",
      "Shape of y:  (50,)\n"
     ]
    }
   ],
   "source": [
    "X = X_input.values\n",
    "y = y_input.values\n",
    "print(\"Shape of X: \", X.shape)\n",
    "print(\"Shape of y: \", y.shape)"
   ],
   "metadata": {
    "collapsed": false,
    "pycharm": {
     "name": "#%%\n"
    }
   }
  },
  {
   "cell_type": "markdown",
   "source": [
    "## Splitting the dataset into the Training set and Test set"
   ],
   "metadata": {
    "collapsed": false,
    "pycharm": {
     "name": "#%% md\n"
    }
   }
  },
  {
   "cell_type": "code",
   "execution_count": 17,
   "outputs": [],
   "source": [
    "from sklearn.model_selection import train_test_split\n",
    "X_train, X_test, y_train, y_test = train_test_split(X, y, test_size=0.2, random_state=0)"
   ],
   "metadata": {
    "collapsed": false,
    "pycharm": {
     "name": "#%%\n"
    }
   }
  },
  {
   "cell_type": "markdown",
   "source": [
    "## Training the Multiple Linear Regression model on the Training set"
   ],
   "metadata": {
    "collapsed": false,
    "pycharm": {
     "name": "#%% md\n"
    }
   }
  },
  {
   "cell_type": "code",
   "execution_count": 18,
   "outputs": [
    {
     "data": {
      "text/plain": "LinearRegression()"
     },
     "execution_count": 18,
     "metadata": {},
     "output_type": "execute_result"
    }
   ],
   "source": [
    "from sklearn.linear_model import LinearRegression\n",
    "regressor = LinearRegression()\n",
    "regressor.fit(X_train, y_train)"
   ],
   "metadata": {
    "collapsed": false,
    "pycharm": {
     "name": "#%%\n"
    }
   }
  },
  {
   "cell_type": "markdown",
   "source": [
    "## Predicting the Test set results"
   ],
   "metadata": {
    "collapsed": false,
    "pycharm": {
     "name": "#%% md\n"
    }
   }
  },
  {
   "cell_type": "code",
   "execution_count": 19,
   "outputs": [
    {
     "name": "stdout",
     "output_type": "stream",
     "text": [
      "[[103901.9  103282.38]\n",
      " [132763.06 144259.4 ]\n",
      " [133567.9  146121.95]\n",
      " [ 72911.79  77798.83]\n",
      " [179627.93 191050.39]\n",
      " [115166.65 105008.31]\n",
      " [ 67113.58  81229.06]\n",
      " [ 98154.81  97483.56]\n",
      " [114756.12 110352.25]\n",
      " [169064.01 166187.94]]\n"
     ]
    }
   ],
   "source": [
    "y_pred = regressor.predict(X_test)\n",
    "np.set_printoptions(precision=2)\n",
    "print(np.concatenate((y_pred.reshape(len(y_pred), 1), y_test.reshape(len(y_test), 1)), 1))"
   ],
   "metadata": {
    "collapsed": false,
    "pycharm": {
     "name": "#%%\n"
    }
   }
  },
  {
   "cell_type": "code",
   "execution_count": 20,
   "outputs": [
    {
     "data": {
      "text/plain": "         ref           pred          diff\n0  103282.38  103901.896970    619.516970\n1  144259.40  132763.059931  11496.340069\n2  146121.95  133567.903700  12554.046300\n3   77798.83   72911.789767   4887.040233\n4  191050.39  179627.925672  11422.464328\n5  105008.31  115166.648648  10158.338648\n6   81229.06   67113.576906  14115.483094\n7   97483.56   98154.806868    671.246868\n8  110352.25  114756.115552   4403.865552\n9  166187.94  169064.014088   2876.074088",
      "text/html": "<div>\n<style scoped>\n    .dataframe tbody tr th:only-of-type {\n        vertical-align: middle;\n    }\n\n    .dataframe tbody tr th {\n        vertical-align: top;\n    }\n\n    .dataframe thead th {\n        text-align: right;\n    }\n</style>\n<table border=\"1\" class=\"dataframe\">\n  <thead>\n    <tr style=\"text-align: right;\">\n      <th></th>\n      <th>ref</th>\n      <th>pred</th>\n      <th>diff</th>\n    </tr>\n  </thead>\n  <tbody>\n    <tr>\n      <th>0</th>\n      <td>103282.38</td>\n      <td>103901.896970</td>\n      <td>619.516970</td>\n    </tr>\n    <tr>\n      <th>1</th>\n      <td>144259.40</td>\n      <td>132763.059931</td>\n      <td>11496.340069</td>\n    </tr>\n    <tr>\n      <th>2</th>\n      <td>146121.95</td>\n      <td>133567.903700</td>\n      <td>12554.046300</td>\n    </tr>\n    <tr>\n      <th>3</th>\n      <td>77798.83</td>\n      <td>72911.789767</td>\n      <td>4887.040233</td>\n    </tr>\n    <tr>\n      <th>4</th>\n      <td>191050.39</td>\n      <td>179627.925672</td>\n      <td>11422.464328</td>\n    </tr>\n    <tr>\n      <th>5</th>\n      <td>105008.31</td>\n      <td>115166.648648</td>\n      <td>10158.338648</td>\n    </tr>\n    <tr>\n      <th>6</th>\n      <td>81229.06</td>\n      <td>67113.576906</td>\n      <td>14115.483094</td>\n    </tr>\n    <tr>\n      <th>7</th>\n      <td>97483.56</td>\n      <td>98154.806868</td>\n      <td>671.246868</td>\n    </tr>\n    <tr>\n      <th>8</th>\n      <td>110352.25</td>\n      <td>114756.115552</td>\n      <td>4403.865552</td>\n    </tr>\n    <tr>\n      <th>9</th>\n      <td>166187.94</td>\n      <td>169064.014088</td>\n      <td>2876.074088</td>\n    </tr>\n  </tbody>\n</table>\n</div>"
     },
     "execution_count": 20,
     "metadata": {},
     "output_type": "execute_result"
    }
   ],
   "source": [
    "data = {'ref': y_test, 'pred': y_pred, 'diff': np.abs((y_test - y_pred))}\n",
    "df = pd.DataFrame(data)\n",
    "df"
   ],
   "metadata": {
    "collapsed": false,
    "pycharm": {
     "name": "#%%\n"
    }
   }
  },
  {
   "cell_type": "code",
   "execution_count": null,
   "outputs": [],
   "source": [],
   "metadata": {
    "collapsed": false,
    "pycharm": {
     "name": "#%%\n"
    }
   }
  }
 ],
 "metadata": {
  "kernelspec": {
   "display_name": "Python 3",
   "language": "python",
   "name": "python3"
  },
  "language_info": {
   "codemirror_mode": {
    "name": "ipython",
    "version": 2
   },
   "file_extension": ".py",
   "mimetype": "text/x-python",
   "name": "python",
   "nbconvert_exporter": "python",
   "pygments_lexer": "ipython2",
   "version": "2.7.6"
  }
 },
 "nbformat": 4,
 "nbformat_minor": 0
}