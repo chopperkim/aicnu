{
 "cells": [
  {
   "cell_type": "code",
   "execution_count": 286,
   "metadata": {
    "collapsed": true
   },
   "outputs": [],
   "source": [
    "import numpy as np\n",
    "import matplotlib.pyplot as plt\n",
    "import pandas as pd"
   ]
  },
  {
   "cell_type": "code",
   "execution_count": 287,
   "outputs": [
    {
     "data": {
      "text/plain": "     시도  시군구                     품목 부부 가족 경영규모   평균투자비(3년합계)  연간운영비/년(운영)  \\\n0  경상남도  합천군  과일과채류 > 딸기 > 딸기(시설딸기)    3300(㎡)   22000000(원)  68000000(원)   \n1  경상남도  합천군        조미채소류 > 마늘 > 마늘    4000(㎡)   17000000(원)  23000000(원)   \n2  경상남도  합천군    조미채소류 > 양파 > 양파(일반)    4000(㎡)   13000000(원)  22000000(원)   \n3  경상남도  남해군        조미채소류 > 마늘 > 마늘    1000(㎡)   23700000(원)   5614138(원)   \n4  경상남도  고성군  과일과채류 > 토마토 > 토마토(시설)    4000(㎡)  200000000(원)  60000000(원)   \n\n  평균수입/년(부부인건비 포함)       평균농지가격(3.3㎡)  \n0      25000000(원)   2500(원)/50000(원)  \n1      12000000(원)   2500(원)/50000(원)  \n2      10000000(원)   2500(원)/50000(원)  \n3       5940734(원)    911(원)/36308(원)  \n4     120000000(원)  2000(원)/100000(원)  ",
      "text/html": "<div>\n<style scoped>\n    .dataframe tbody tr th:only-of-type {\n        vertical-align: middle;\n    }\n\n    .dataframe tbody tr th {\n        vertical-align: top;\n    }\n\n    .dataframe thead th {\n        text-align: right;\n    }\n</style>\n<table border=\"1\" class=\"dataframe\">\n  <thead>\n    <tr style=\"text-align: right;\">\n      <th></th>\n      <th>시도</th>\n      <th>시군구</th>\n      <th>품목</th>\n      <th>부부 가족 경영규모</th>\n      <th>평균투자비(3년합계)</th>\n      <th>연간운영비/년(운영)</th>\n      <th>평균수입/년(부부인건비 포함)</th>\n      <th>평균농지가격(3.3㎡)</th>\n    </tr>\n  </thead>\n  <tbody>\n    <tr>\n      <th>0</th>\n      <td>경상남도</td>\n      <td>합천군</td>\n      <td>과일과채류 &gt; 딸기 &gt; 딸기(시설딸기)</td>\n      <td>3300(㎡)</td>\n      <td>22000000(원)</td>\n      <td>68000000(원)</td>\n      <td>25000000(원)</td>\n      <td>2500(원)/50000(원)</td>\n    </tr>\n    <tr>\n      <th>1</th>\n      <td>경상남도</td>\n      <td>합천군</td>\n      <td>조미채소류 &gt; 마늘 &gt; 마늘</td>\n      <td>4000(㎡)</td>\n      <td>17000000(원)</td>\n      <td>23000000(원)</td>\n      <td>12000000(원)</td>\n      <td>2500(원)/50000(원)</td>\n    </tr>\n    <tr>\n      <th>2</th>\n      <td>경상남도</td>\n      <td>합천군</td>\n      <td>조미채소류 &gt; 양파 &gt; 양파(일반)</td>\n      <td>4000(㎡)</td>\n      <td>13000000(원)</td>\n      <td>22000000(원)</td>\n      <td>10000000(원)</td>\n      <td>2500(원)/50000(원)</td>\n    </tr>\n    <tr>\n      <th>3</th>\n      <td>경상남도</td>\n      <td>남해군</td>\n      <td>조미채소류 &gt; 마늘 &gt; 마늘</td>\n      <td>1000(㎡)</td>\n      <td>23700000(원)</td>\n      <td>5614138(원)</td>\n      <td>5940734(원)</td>\n      <td>911(원)/36308(원)</td>\n    </tr>\n    <tr>\n      <th>4</th>\n      <td>경상남도</td>\n      <td>고성군</td>\n      <td>과일과채류 &gt; 토마토 &gt; 토마토(시설)</td>\n      <td>4000(㎡)</td>\n      <td>200000000(원)</td>\n      <td>60000000(원)</td>\n      <td>120000000(원)</td>\n      <td>2000(원)/100000(원)</td>\n    </tr>\n  </tbody>\n</table>\n</div>"
     },
     "execution_count": 287,
     "metadata": {},
     "output_type": "execute_result"
    }
   ],
   "source": [
    "data = pd.read_csv('sp_earn.csv')\n",
    "data = data.drop(['번호'],axis=1)\n",
    "data.head()"
   ],
   "metadata": {
    "collapsed": false,
    "pycharm": {
     "name": "#%%\n"
    }
   }
  },
  {
   "cell_type": "code",
   "execution_count": 288,
   "outputs": [
    {
     "name": "stdout",
     "output_type": "stream",
     "text": [
      "                        품목\n",
      "0    과일과채류 > 딸기 > 딸기(시설딸기)\n",
      "1          조미채소류 > 마늘 > 마늘\n",
      "2      조미채소류 > 양파 > 양파(일반)\n",
      "3          조미채소류 > 마늘 > 마늘\n",
      "4    과일과채류 > 토마토 > 토마토(시설)\n",
      "..                     ...\n",
      "742      산채류 > 더덕 > 더덕(일반)\n",
      "743    약용작물류 > 황기 > 황기(일반)\n",
      "744  약용작물류 > 산야초 > 산야초(일반)\n",
      "745        약용작물류 > 인삼 > 인삼\n",
      "746         콩류 > 콩 > 콩(일반)\n",
      "\n",
      "[747 rows x 1 columns]\n"
     ]
    }
   ],
   "source": [
    "# data.shape\n",
    "# print(data.columns)\n",
    "print(data.iloc[:,[2]])"
   ],
   "metadata": {
    "collapsed": false,
    "pycharm": {
     "name": "#%%\n"
    }
   }
  },
  {
   "cell_type": "code",
   "execution_count": 289,
   "outputs": [
    {
     "data": {
      "text/plain": "0       딸기\n1       마늘\n2       양파\n3       마늘\n4      토마토\n      ... \n742     더덕\n743     황기\n744    산야초\n745     인삼\n746      콩\nName: 품목, Length: 747, dtype: object"
     },
     "execution_count": 289,
     "metadata": {},
     "output_type": "execute_result"
    }
   ],
   "source": [
    "#데이터 전처리\n",
    "data['품목'] = data['품목'].astype(str).str.rpartition(sep='>')[2].str.strip()\n",
    "data['품목'] = data['품목'].str.partition(sep='(')[0].str.strip()\n",
    "data['부부 가족 경영규모'] = data['부부 가족 경영규모'].str.partition(sep='(')[0].str.strip()\n",
    "data['평균투자비(3년합계)'] = data['평균투자비(3년합계)'].str.partition(sep='(')[0].str.strip()\n",
    "data['연간운영비/년(운영)'] = data['연간운영비/년(운영)'].str.partition(sep='(')[0].str.strip()\n",
    "data['평균수입/년(부부인건비 포함)'] = data['평균수입/년(부부인건비 포함)'].str.partition(sep='(')[0].str.strip()\n",
    "data['품목']"
   ],
   "metadata": {
    "collapsed": false,
    "pycharm": {
     "name": "#%%\n"
    }
   }
  },
  {
   "cell_type": "code",
   "execution_count": 290,
   "outputs": [
    {
     "name": "stdout",
     "output_type": "stream",
     "text": [
      "(747, 4)\n",
      "(727, 4)\n"
     ]
    },
    {
     "data": {
      "text/plain": "      품목 부부 가족 경영규모 연간운영비/년(운영) 평균수입/년(부부인건비 포함)\n742   더덕       5000     5000000         10000000\n743   황기      12000     5000000         25000000\n744  산야초       2000    10000000         50000000\n745   인삼      15000        3000             2500\n746    콩      10000        2500             1000",
      "text/html": "<div>\n<style scoped>\n    .dataframe tbody tr th:only-of-type {\n        vertical-align: middle;\n    }\n\n    .dataframe tbody tr th {\n        vertical-align: top;\n    }\n\n    .dataframe thead th {\n        text-align: right;\n    }\n</style>\n<table border=\"1\" class=\"dataframe\">\n  <thead>\n    <tr style=\"text-align: right;\">\n      <th></th>\n      <th>품목</th>\n      <th>부부 가족 경영규모</th>\n      <th>연간운영비/년(운영)</th>\n      <th>평균수입/년(부부인건비 포함)</th>\n    </tr>\n  </thead>\n  <tbody>\n    <tr>\n      <th>742</th>\n      <td>더덕</td>\n      <td>5000</td>\n      <td>5000000</td>\n      <td>10000000</td>\n    </tr>\n    <tr>\n      <th>743</th>\n      <td>황기</td>\n      <td>12000</td>\n      <td>5000000</td>\n      <td>25000000</td>\n    </tr>\n    <tr>\n      <th>744</th>\n      <td>산야초</td>\n      <td>2000</td>\n      <td>10000000</td>\n      <td>50000000</td>\n    </tr>\n    <tr>\n      <th>745</th>\n      <td>인삼</td>\n      <td>15000</td>\n      <td>3000</td>\n      <td>2500</td>\n    </tr>\n    <tr>\n      <th>746</th>\n      <td>콩</td>\n      <td>10000</td>\n      <td>2500</td>\n      <td>1000</td>\n    </tr>\n  </tbody>\n</table>\n</div>"
     },
     "execution_count": 290,
     "metadata": {},
     "output_type": "execute_result"
    }
   ],
   "source": [
    "c_data = data.copy(deep=True)\n",
    "c_data =  c_data.drop(['평균투자비(3년합계)'], axis=1)\n",
    "c_data =  c_data.drop(['시도'], axis=1)  #해결 못해서 drop\n",
    "c_data =  c_data.drop(['시군구'], axis=1)\n",
    "c_data =  c_data.drop(['평균농지가격(3.3㎡)'], axis=1)\n",
    "print(c_data.shape)\n",
    "c_data = c_data[c_data['품목'].astype(str) != '' ]\n",
    "c_data = c_data[c_data['부부 가족 경영규모'].astype(int) != 0 ]\n",
    "#c_data = c_data[c_data['평균투자비(3년합계)'].astype(int) != 0 ]\n",
    "c_data = c_data[c_data['연간운영비/년(운영)'].astype(int) != 0 ]\n",
    "c_data = c_data[c_data['평균수입/년(부부인건비 포함)'].astype(int) != 0 ]\n",
    "print(c_data.shape)\n",
    "c_data.tail()"
   ],
   "metadata": {
    "collapsed": false,
    "pycharm": {
     "name": "#%%\n"
    }
   }
  },
  {
   "cell_type": "code",
   "execution_count": 291,
   "outputs": [
    {
     "name": "stdout",
     "output_type": "stream",
     "text": [
      "127\n"
     ]
    },
    {
     "data": {
      "text/plain": "array(['가을감자', '가지', '감', '감귤', '감자', '갓', '건고추', '고구마', '고설딸기', '고추',\n       '곤드레나물', '곰취나물', '곶감', '과수', '구기자', '기타', '꽈리고추', '노지수박', '노지포도',\n       '느타리버섯', '단호박', '당근', '대봉감', '대추', '대파', '대홍', '더덕', '덩굴강낭콩',\n       '도라지', '돌산갓', '두릅', '딸기', '땅콩', '마늘', '매실', '메론', '묘목', '무화과',\n       '미나리', '반시', '밤', '밤호박', '방울토마토', '방풍', '배', '배추', '버섯', '벼',\n       '복분자', '브로코리', '블루베리', '비가림감귤', '사과', '산마늘', '산야초', '산채류', '상추',\n       '생강', '생고사리', '세발나물', '수박', '시금치', '시설가지', '시설구기자', '시설오이', '시설채소',\n       '시설호박', '쌀', '쌈채', '쌈채소', '쑥', '아로니아', '알로에', '애호박', '양배추', '양봉꿀',\n       '양송이', '양채류', '양파', '연근', '오디', '오미자', '오이', '옥수수', '울금', '원예',\n       '월동무', '유자', '인삼', '일반계', '일반미', '일반부추', '일반율무', '잎들깨', '자두', '장미',\n       '절임배추', '조생양파', '쥬키니호박', '쪽파', '찰옥수수', '참다래', '참외', '천혜향', '청상추',\n       '청초', '청포도', '체리', '취나물', '친환경 제철 꾸러미', '콩', '털복숭아', '토마토', '파프리카',\n       '포도', '표고버섯', '풋고추', '풋마늘', '하우스감귤', '한라봉', '한우', '호박', '홍고추',\n       '홍삼포크', '화훼', '황기', '후지'], dtype='<U10')"
     },
     "execution_count": 291,
     "metadata": {},
     "output_type": "execute_result"
    }
   ],
   "source": [
    "print(len(np.unique(list(c_data['품목']))))\n",
    "np.unique(list(c_data['품목']))"
   ],
   "metadata": {
    "collapsed": false,
    "pycharm": {
     "name": "#%%\n"
    }
   }
  },
  {
   "cell_type": "code",
   "execution_count": 292,
   "outputs": [
    {
     "data": {
      "text/plain": "품목                  object\n부부 가족 경영규모           int32\n연간운영비/년(운영)          int32\n평균수입/년(부부인건비 포함)     int32\ndtype: object"
     },
     "execution_count": 292,
     "metadata": {},
     "output_type": "execute_result"
    }
   ],
   "source": [
    "c_data['부부 가족 경영규모'] = c_data['부부 가족 경영규모'].astype(int)\n",
    "#c_data['평균투자비(3년합계)'] = c_data['평균투자비(3년합계)'].astype(int)\n",
    "c_data['연간운영비/년(운영)'] = c_data['연간운영비/년(운영)'].astype(int)\n",
    "c_data['평균수입/년(부부인건비 포함)'] = c_data['평균수입/년(부부인건비 포함)'].astype(int)\n",
    "c_data.dtypes"
   ],
   "metadata": {
    "collapsed": false,
    "pycharm": {
     "name": "#%%\n"
    }
   }
  },
  {
   "cell_type": "code",
   "execution_count": 293,
   "outputs": [],
   "source": [
    "#c_data['시도'] = pd.Categorical(c_data['시도'])\n",
    "#c_data['시군구'] = pd.Categorical(c_data['시군구'])"
   ],
   "metadata": {
    "collapsed": false,
    "pycharm": {
     "name": "#%%\n"
    }
   }
  },
  {
   "cell_type": "code",
   "execution_count": 297,
   "outputs": [
    {
     "name": "stdout",
     "output_type": "stream",
     "text": [
      "(727, 130)\n"
     ]
    },
    {
     "data": {
      "text/plain": "     부부 가족 경영규모  연간운영비/년(운영)  평균수입/년(부부인건비 포함)  품목_가을감자  품목_가지  품목_감  품목_감귤  \\\n0          3300     68000000          25000000        0      0     0      0   \n1          4000     23000000          12000000        0      0     0      0   \n2          4000     22000000          10000000        0      0     0      0   \n3          1000      5614138           5940734        0      0     0      0   \n4          4000     60000000         120000000        0      0     0      0   \n..          ...          ...               ...      ...    ...   ...    ...   \n742        5000      5000000          10000000        0      0     0      0   \n743       12000      5000000          25000000        0      0     0      0   \n744        2000     10000000          50000000        0      0     0      0   \n745       15000         3000              2500        0      0     0      0   \n746       10000         2500              1000        0      0     0      0   \n\n     품목_감자  품목_갓  품목_건고추  ...  품목_풋마늘  품목_하우스감귤  품목_한라봉  품목_한우  품목_호박  품목_홍고추  \\\n0        0     0       0  ...       0         0       0      0      0       0   \n1        0     0       0  ...       0         0       0      0      0       0   \n2        0     0       0  ...       0         0       0      0      0       0   \n3        0     0       0  ...       0         0       0      0      0       0   \n4        0     0       0  ...       0         0       0      0      0       0   \n..     ...   ...     ...  ...     ...       ...     ...    ...    ...     ...   \n742      0     0       0  ...       0         0       0      0      0       0   \n743      0     0       0  ...       0         0       0      0      0       0   \n744      0     0       0  ...       0         0       0      0      0       0   \n745      0     0       0  ...       0         0       0      0      0       0   \n746      0     0       0  ...       0         0       0      0      0       0   \n\n     품목_홍삼포크  품목_화훼  품목_황기  품목_후지  \n0          0      0      0      0  \n1          0      0      0      0  \n2          0      0      0      0  \n3          0      0      0      0  \n4          0      0      0      0  \n..       ...    ...    ...    ...  \n742        0      0      0      0  \n743        0      0      1      0  \n744        0      0      0      0  \n745        0      0      0      0  \n746        0      0      0      0  \n\n[727 rows x 130 columns]",
      "text/html": "<div>\n<style scoped>\n    .dataframe tbody tr th:only-of-type {\n        vertical-align: middle;\n    }\n\n    .dataframe tbody tr th {\n        vertical-align: top;\n    }\n\n    .dataframe thead th {\n        text-align: right;\n    }\n</style>\n<table border=\"1\" class=\"dataframe\">\n  <thead>\n    <tr style=\"text-align: right;\">\n      <th></th>\n      <th>부부 가족 경영규모</th>\n      <th>연간운영비/년(운영)</th>\n      <th>평균수입/년(부부인건비 포함)</th>\n      <th>품목_가을감자</th>\n      <th>품목_가지</th>\n      <th>품목_감</th>\n      <th>품목_감귤</th>\n      <th>품목_감자</th>\n      <th>품목_갓</th>\n      <th>품목_건고추</th>\n      <th>...</th>\n      <th>품목_풋마늘</th>\n      <th>품목_하우스감귤</th>\n      <th>품목_한라봉</th>\n      <th>품목_한우</th>\n      <th>품목_호박</th>\n      <th>품목_홍고추</th>\n      <th>품목_홍삼포크</th>\n      <th>품목_화훼</th>\n      <th>품목_황기</th>\n      <th>품목_후지</th>\n    </tr>\n  </thead>\n  <tbody>\n    <tr>\n      <th>0</th>\n      <td>3300</td>\n      <td>68000000</td>\n      <td>25000000</td>\n      <td>0</td>\n      <td>0</td>\n      <td>0</td>\n      <td>0</td>\n      <td>0</td>\n      <td>0</td>\n      <td>0</td>\n      <td>...</td>\n      <td>0</td>\n      <td>0</td>\n      <td>0</td>\n      <td>0</td>\n      <td>0</td>\n      <td>0</td>\n      <td>0</td>\n      <td>0</td>\n      <td>0</td>\n      <td>0</td>\n    </tr>\n    <tr>\n      <th>1</th>\n      <td>4000</td>\n      <td>23000000</td>\n      <td>12000000</td>\n      <td>0</td>\n      <td>0</td>\n      <td>0</td>\n      <td>0</td>\n      <td>0</td>\n      <td>0</td>\n      <td>0</td>\n      <td>...</td>\n      <td>0</td>\n      <td>0</td>\n      <td>0</td>\n      <td>0</td>\n      <td>0</td>\n      <td>0</td>\n      <td>0</td>\n      <td>0</td>\n      <td>0</td>\n      <td>0</td>\n    </tr>\n    <tr>\n      <th>2</th>\n      <td>4000</td>\n      <td>22000000</td>\n      <td>10000000</td>\n      <td>0</td>\n      <td>0</td>\n      <td>0</td>\n      <td>0</td>\n      <td>0</td>\n      <td>0</td>\n      <td>0</td>\n      <td>...</td>\n      <td>0</td>\n      <td>0</td>\n      <td>0</td>\n      <td>0</td>\n      <td>0</td>\n      <td>0</td>\n      <td>0</td>\n      <td>0</td>\n      <td>0</td>\n      <td>0</td>\n    </tr>\n    <tr>\n      <th>3</th>\n      <td>1000</td>\n      <td>5614138</td>\n      <td>5940734</td>\n      <td>0</td>\n      <td>0</td>\n      <td>0</td>\n      <td>0</td>\n      <td>0</td>\n      <td>0</td>\n      <td>0</td>\n      <td>...</td>\n      <td>0</td>\n      <td>0</td>\n      <td>0</td>\n      <td>0</td>\n      <td>0</td>\n      <td>0</td>\n      <td>0</td>\n      <td>0</td>\n      <td>0</td>\n      <td>0</td>\n    </tr>\n    <tr>\n      <th>4</th>\n      <td>4000</td>\n      <td>60000000</td>\n      <td>120000000</td>\n      <td>0</td>\n      <td>0</td>\n      <td>0</td>\n      <td>0</td>\n      <td>0</td>\n      <td>0</td>\n      <td>0</td>\n      <td>...</td>\n      <td>0</td>\n      <td>0</td>\n      <td>0</td>\n      <td>0</td>\n      <td>0</td>\n      <td>0</td>\n      <td>0</td>\n      <td>0</td>\n      <td>0</td>\n      <td>0</td>\n    </tr>\n    <tr>\n      <th>...</th>\n      <td>...</td>\n      <td>...</td>\n      <td>...</td>\n      <td>...</td>\n      <td>...</td>\n      <td>...</td>\n      <td>...</td>\n      <td>...</td>\n      <td>...</td>\n      <td>...</td>\n      <td>...</td>\n      <td>...</td>\n      <td>...</td>\n      <td>...</td>\n      <td>...</td>\n      <td>...</td>\n      <td>...</td>\n      <td>...</td>\n      <td>...</td>\n      <td>...</td>\n      <td>...</td>\n    </tr>\n    <tr>\n      <th>742</th>\n      <td>5000</td>\n      <td>5000000</td>\n      <td>10000000</td>\n      <td>0</td>\n      <td>0</td>\n      <td>0</td>\n      <td>0</td>\n      <td>0</td>\n      <td>0</td>\n      <td>0</td>\n      <td>...</td>\n      <td>0</td>\n      <td>0</td>\n      <td>0</td>\n      <td>0</td>\n      <td>0</td>\n      <td>0</td>\n      <td>0</td>\n      <td>0</td>\n      <td>0</td>\n      <td>0</td>\n    </tr>\n    <tr>\n      <th>743</th>\n      <td>12000</td>\n      <td>5000000</td>\n      <td>25000000</td>\n      <td>0</td>\n      <td>0</td>\n      <td>0</td>\n      <td>0</td>\n      <td>0</td>\n      <td>0</td>\n      <td>0</td>\n      <td>...</td>\n      <td>0</td>\n      <td>0</td>\n      <td>0</td>\n      <td>0</td>\n      <td>0</td>\n      <td>0</td>\n      <td>0</td>\n      <td>0</td>\n      <td>1</td>\n      <td>0</td>\n    </tr>\n    <tr>\n      <th>744</th>\n      <td>2000</td>\n      <td>10000000</td>\n      <td>50000000</td>\n      <td>0</td>\n      <td>0</td>\n      <td>0</td>\n      <td>0</td>\n      <td>0</td>\n      <td>0</td>\n      <td>0</td>\n      <td>...</td>\n      <td>0</td>\n      <td>0</td>\n      <td>0</td>\n      <td>0</td>\n      <td>0</td>\n      <td>0</td>\n      <td>0</td>\n      <td>0</td>\n      <td>0</td>\n      <td>0</td>\n    </tr>\n    <tr>\n      <th>745</th>\n      <td>15000</td>\n      <td>3000</td>\n      <td>2500</td>\n      <td>0</td>\n      <td>0</td>\n      <td>0</td>\n      <td>0</td>\n      <td>0</td>\n      <td>0</td>\n      <td>0</td>\n      <td>...</td>\n      <td>0</td>\n      <td>0</td>\n      <td>0</td>\n      <td>0</td>\n      <td>0</td>\n      <td>0</td>\n      <td>0</td>\n      <td>0</td>\n      <td>0</td>\n      <td>0</td>\n    </tr>\n    <tr>\n      <th>746</th>\n      <td>10000</td>\n      <td>2500</td>\n      <td>1000</td>\n      <td>0</td>\n      <td>0</td>\n      <td>0</td>\n      <td>0</td>\n      <td>0</td>\n      <td>0</td>\n      <td>0</td>\n      <td>...</td>\n      <td>0</td>\n      <td>0</td>\n      <td>0</td>\n      <td>0</td>\n      <td>0</td>\n      <td>0</td>\n      <td>0</td>\n      <td>0</td>\n      <td>0</td>\n      <td>0</td>\n    </tr>\n  </tbody>\n</table>\n<p>727 rows × 130 columns</p>\n</div>"
     },
     "execution_count": 297,
     "metadata": {},
     "output_type": "execute_result"
    }
   ],
   "source": [
    "c_data = pd.get_dummies(c_data, prefix_sep='_', drop_first=True)\n",
    "print(c_data.shape)\n",
    "c_data"
   ],
   "metadata": {
    "collapsed": false,
    "pycharm": {
     "name": "#%%\n"
    }
   }
  },
  {
   "cell_type": "code",
   "execution_count": 301,
   "outputs": [
    {
     "data": {
      "text/plain": "<Figure size 1152x288 with 3 Axes>",
      "image/png": "[encoded data removed]"
     },
     "metadata": {
      "needs_background": "light"
     },
     "output_type": "display_data"
    }
   ],
   "source": [
    "fig, ax = plt.subplots(1, 3, figsize=(16,4))\n",
    "ax[0].boxplot(list(c_data['부부 가족 경영규모']))\n",
    "ax[1].boxplot(list(c_data['연간운영비/년(운영)']))\n",
    "ax[2].boxplot(list(c_data['평균수입/년(부부인건비 포함)']))\n",
    "plt.show()"
   ],
   "metadata": {
    "collapsed": false,
    "pycharm": {
     "name": "#%%\n"
    }
   }
  },
  {
   "cell_type": "code",
   "execution_count": null,
   "outputs": [],
   "source": [],
   "metadata": {
    "collapsed": false,
    "pycharm": {
     "name": "#%%\n"
    }
   }
  }
 ],
 "metadata": {
  "kernelspec": {
   "display_name": "Python 3",
   "language": "python",
   "name": "python3"
  },
  "language_info": {
   "codemirror_mode": {
    "name": "ipython",
    "version": 2
   },
   "file_extension": ".py",
   "mimetype": "text/x-python",
   "name": "python",
   "nbconvert_exporter": "python",
   "pygments_lexer": "ipython2",
   "version": "2.7.6"
  }
 },
 "nbformat": 4,
 "nbformat_minor": 0
}