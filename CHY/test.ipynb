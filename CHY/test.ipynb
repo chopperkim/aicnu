{
 "cells": [
  {
   "cell_type": "markdown",
   "metadata": {
    "collapsed": true,
    "pycharm": {
     "name": "#%% md\n"
    }
   },
   "source": [
    "### 소스코드  : 중고차 가격 예측 모델 참고\n",
    "- https://ebbnflow.tistory.com/140?category=850456\n",
    "- https://ebbnflow.tistory.com/141?category=850456"
   ]
  },
  {
   "cell_type": "code",
   "execution_count": 635,
   "outputs": [],
   "source": [
    "import numpy as np\n",
    "import matplotlib.pyplot as plt\n",
    "import pandas as pd\n",
    "import seaborn as sns\n",
    "from sklearn.preprocessing import LabelEncoder\n",
    "from sklearn.model_selection import train_test_split\n",
    "from sklearn.linear_model import LinearRegression\n",
    "from sklearn.metrics import accuracy_score, r2_score\n",
    "from sklearn.metrics import mean_absolute_error\n",
    "from sklearn import preprocessing"
   ],
   "metadata": {
    "collapsed": false,
    "pycharm": {
     "name": "#%%\n"
    }
   }
  },
  {
   "cell_type": "code",
   "execution_count": 636,
   "outputs": [
    {
     "data": {
      "text/plain": "     시도  시군구                     품목 부부 가족 경영규모   평균투자비(3년합계)  연간운영비/년(운영)  \\\n0  경상남도  합천군  과일과채류 > 딸기 > 딸기(시설딸기)    3300(㎡)   22000000(원)  68000000(원)   \n1  경상남도  합천군        조미채소류 > 마늘 > 마늘    4000(㎡)   17000000(원)  23000000(원)   \n2  경상남도  합천군    조미채소류 > 양파 > 양파(일반)    4000(㎡)   13000000(원)  22000000(원)   \n3  경상남도  남해군        조미채소류 > 마늘 > 마늘    1000(㎡)   23700000(원)   5614138(원)   \n4  경상남도  고성군  과일과채류 > 토마토 > 토마토(시설)    4000(㎡)  200000000(원)  60000000(원)   \n\n  평균수입/년(부부인건비 포함)       평균농지가격(3.3㎡)  \n0      25000000(원)   2500(원)/50000(원)  \n1      12000000(원)   2500(원)/50000(원)  \n2      10000000(원)   2500(원)/50000(원)  \n3       5940734(원)    911(원)/36308(원)  \n4     120000000(원)  2000(원)/100000(원)  ",
      "text/html": "<div>\n<style scoped>\n    .dataframe tbody tr th:only-of-type {\n        vertical-align: middle;\n    }\n\n    .dataframe tbody tr th {\n        vertical-align: top;\n    }\n\n    .dataframe thead th {\n        text-align: right;\n    }\n</style>\n<table border=\"1\" class=\"dataframe\">\n  <thead>\n    <tr style=\"text-align: right;\">\n      <th></th>\n      <th>시도</th>\n      <th>시군구</th>\n      <th>품목</th>\n      <th>부부 가족 경영규모</th>\n      <th>평균투자비(3년합계)</th>\n      <th>연간운영비/년(운영)</th>\n      <th>평균수입/년(부부인건비 포함)</th>\n      <th>평균농지가격(3.3㎡)</th>\n    </tr>\n  </thead>\n  <tbody>\n    <tr>\n      <th>0</th>\n      <td>경상남도</td>\n      <td>합천군</td>\n      <td>과일과채류 &gt; 딸기 &gt; 딸기(시설딸기)</td>\n      <td>3300(㎡)</td>\n      <td>22000000(원)</td>\n      <td>68000000(원)</td>\n      <td>25000000(원)</td>\n      <td>2500(원)/50000(원)</td>\n    </tr>\n    <tr>\n      <th>1</th>\n      <td>경상남도</td>\n      <td>합천군</td>\n      <td>조미채소류 &gt; 마늘 &gt; 마늘</td>\n      <td>4000(㎡)</td>\n      <td>17000000(원)</td>\n      <td>23000000(원)</td>\n      <td>12000000(원)</td>\n      <td>2500(원)/50000(원)</td>\n    </tr>\n    <tr>\n      <th>2</th>\n      <td>경상남도</td>\n      <td>합천군</td>\n      <td>조미채소류 &gt; 양파 &gt; 양파(일반)</td>\n      <td>4000(㎡)</td>\n      <td>13000000(원)</td>\n      <td>22000000(원)</td>\n      <td>10000000(원)</td>\n      <td>2500(원)/50000(원)</td>\n    </tr>\n    <tr>\n      <th>3</th>\n      <td>경상남도</td>\n      <td>남해군</td>\n      <td>조미채소류 &gt; 마늘 &gt; 마늘</td>\n      <td>1000(㎡)</td>\n      <td>23700000(원)</td>\n      <td>5614138(원)</td>\n      <td>5940734(원)</td>\n      <td>911(원)/36308(원)</td>\n    </tr>\n    <tr>\n      <th>4</th>\n      <td>경상남도</td>\n      <td>고성군</td>\n      <td>과일과채류 &gt; 토마토 &gt; 토마토(시설)</td>\n      <td>4000(㎡)</td>\n      <td>200000000(원)</td>\n      <td>60000000(원)</td>\n      <td>120000000(원)</td>\n      <td>2000(원)/100000(원)</td>\n    </tr>\n  </tbody>\n</table>\n</div>"
     },
     "execution_count": 636,
     "metadata": {},
     "output_type": "execute_result"
    }
   ],
   "source": [
    "data = pd.read_csv('sp_earn.csv')\n",
    "data = data.drop(['번호'],axis=1)\n",
    "data.head()"
   ],
   "metadata": {
    "collapsed": false,
    "pycharm": {
     "name": "#%%\n"
    }
   }
  },
  {
   "cell_type": "code",
   "execution_count": 637,
   "outputs": [
    {
     "name": "stdout",
     "output_type": "stream",
     "text": [
      "                        품목\n",
      "0    과일과채류 > 딸기 > 딸기(시설딸기)\n",
      "1          조미채소류 > 마늘 > 마늘\n",
      "2      조미채소류 > 양파 > 양파(일반)\n",
      "3          조미채소류 > 마늘 > 마늘\n",
      "4    과일과채류 > 토마토 > 토마토(시설)\n",
      "..                     ...\n",
      "742      산채류 > 더덕 > 더덕(일반)\n",
      "743    약용작물류 > 황기 > 황기(일반)\n",
      "744  약용작물류 > 산야초 > 산야초(일반)\n",
      "745        약용작물류 > 인삼 > 인삼\n",
      "746         콩류 > 콩 > 콩(일반)\n",
      "\n",
      "[747 rows x 1 columns]\n"
     ]
    }
   ],
   "source": [
    "# data.shape\n",
    "# print(data.columns)\n",
    "print(data.iloc[:,[2]])"
   ],
   "metadata": {
    "collapsed": false,
    "pycharm": {
     "name": "#%%\n"
    }
   }
  },
  {
   "cell_type": "code",
   "execution_count": 638,
   "outputs": [
    {
     "data": {
      "text/plain": "0       딸기\n1       마늘\n2       양파\n3       마늘\n4      토마토\n      ... \n742     더덕\n743     황기\n744    산야초\n745     인삼\n746      콩\nName: 품목, Length: 747, dtype: object"
     },
     "execution_count": 638,
     "metadata": {},
     "output_type": "execute_result"
    }
   ],
   "source": [
    "#데이터 전처리\n",
    "data['품목'] = data['품목'].astype(str).str.rpartition(sep='>')[2].str.strip()\n",
    "data['품목'] = data['품목'].str.partition(sep='(')[0].str.strip()\n",
    "data['부부 가족 경영규모'] = data['부부 가족 경영규모'].str.partition(sep='(')[0].str.strip()\n",
    "data['평균투자비(3년합계)'] = data['평균투자비(3년합계)'].str.partition(sep='(')[0].str.strip()\n",
    "data['연간운영비/년(운영)'] = data['연간운영비/년(운영)'].str.partition(sep='(')[0].str.strip()\n",
    "data['평균수입/년(부부인건비 포함)'] = data['평균수입/년(부부인건비 포함)'].str.partition(sep='(')[0].str.strip()\n",
    "data['품목']"
   ],
   "metadata": {
    "collapsed": false,
    "pycharm": {
     "name": "#%%\n"
    }
   }
  },
  {
   "cell_type": "code",
   "execution_count": 639,
   "outputs": [
    {
     "name": "stdout",
     "output_type": "stream",
     "text": [
      "(747, 5)\n",
      "(725, 5)\n"
     ]
    },
    {
     "data": {
      "text/plain": "      품목 부부 가족 경영규모 연간운영비/년(운영) 평균수입/년(부부인건비 포함)         면적당수입\n742   더덕       5000     5000000         10000000   2000.000000\n743   황기      12000     5000000         25000000   2083.333333\n744  산야초       2000    10000000         50000000  25000.000000\n745   인삼      15000        3000             2500      0.166667\n746    콩      10000        2500             1000      0.100000",
      "text/html": "<div>\n<style scoped>\n    .dataframe tbody tr th:only-of-type {\n        vertical-align: middle;\n    }\n\n    .dataframe tbody tr th {\n        vertical-align: top;\n    }\n\n    .dataframe thead th {\n        text-align: right;\n    }\n</style>\n<table border=\"1\" class=\"dataframe\">\n  <thead>\n    <tr style=\"text-align: right;\">\n      <th></th>\n      <th>품목</th>\n      <th>부부 가족 경영규모</th>\n      <th>연간운영비/년(운영)</th>\n      <th>평균수입/년(부부인건비 포함)</th>\n      <th>면적당수입</th>\n    </tr>\n  </thead>\n  <tbody>\n    <tr>\n      <th>742</th>\n      <td>더덕</td>\n      <td>5000</td>\n      <td>5000000</td>\n      <td>10000000</td>\n      <td>2000.000000</td>\n    </tr>\n    <tr>\n      <th>743</th>\n      <td>황기</td>\n      <td>12000</td>\n      <td>5000000</td>\n      <td>25000000</td>\n      <td>2083.333333</td>\n    </tr>\n    <tr>\n      <th>744</th>\n      <td>산야초</td>\n      <td>2000</td>\n      <td>10000000</td>\n      <td>50000000</td>\n      <td>25000.000000</td>\n    </tr>\n    <tr>\n      <th>745</th>\n      <td>인삼</td>\n      <td>15000</td>\n      <td>3000</td>\n      <td>2500</td>\n      <td>0.166667</td>\n    </tr>\n    <tr>\n      <th>746</th>\n      <td>콩</td>\n      <td>10000</td>\n      <td>2500</td>\n      <td>1000</td>\n      <td>0.100000</td>\n    </tr>\n  </tbody>\n</table>\n</div>"
     },
     "execution_count": 639,
     "metadata": {},
     "output_type": "execute_result"
    }
   ],
   "source": [
    "c_data = data.copy(deep=True)\n",
    "c_data =  c_data.drop(['평균투자비(3년합계)'], axis=1)\n",
    "c_data =  c_data.drop(['시도'], axis=1)  #해결 못해서 drop\n",
    "c_data =  c_data.drop(['시군구'], axis=1)\n",
    "c_data =  c_data.drop(['평균농지가격(3.3㎡)'], axis=1)\n",
    "c_data['면적당수입'] = c_data['평균수입/년(부부인건비 포함)'].astype(int) / c_data['부부 가족 경영규모'].astype(int)\n",
    "print(c_data.shape)\n",
    "c_data = c_data[c_data['품목'].astype(str) != '' ]\n",
    "c_data = c_data[c_data['부부 가족 경영규모'].astype(int) != 0 ]\n",
    "c_data = c_data[c_data['부부 가족 경영규모'].astype(int) < 2140000 ] #이상치제거\n",
    "#c_data = c_data[c_data['평균투자비(3년합계)'].astype(int) != 0 ]\n",
    "c_data = c_data[c_data['연간운영비/년(운영)'].astype(int) != 0 ]\n",
    "c_data = c_data[c_data['평균수입/년(부부인건비 포함)'].astype(int) != 0 ]\n",
    "c_data = c_data[c_data['면적당수입'].astype(float) != 0 ]\n",
    "print(c_data.shape)\n",
    "c_data.tail()"
   ],
   "metadata": {
    "collapsed": false,
    "pycharm": {
     "name": "#%%\n"
    }
   }
  },
  {
   "cell_type": "code",
   "execution_count": 640,
   "outputs": [
    {
     "name": "stdout",
     "output_type": "stream",
     "text": [
      "127\n"
     ]
    },
    {
     "data": {
      "text/plain": "array(['가을감자', '가지', '감', '감귤', '감자', '갓', '건고추', '고구마', '고설딸기', '고추',\n       '곤드레나물', '곰취나물', '곶감', '과수', '구기자', '기타', '꽈리고추', '노지수박', '노지포도',\n       '느타리버섯', '단호박', '당근', '대봉감', '대추', '대파', '대홍', '더덕', '덩굴강낭콩',\n       '도라지', '돌산갓', '두릅', '딸기', '땅콩', '마늘', '매실', '메론', '묘목', '무화과',\n       '미나리', '반시', '밤', '밤호박', '방울토마토', '방풍', '배', '배추', '버섯', '벼',\n       '복분자', '브로코리', '블루베리', '비가림감귤', '사과', '산마늘', '산야초', '산채류', '상추',\n       '생강', '생고사리', '세발나물', '수박', '시금치', '시설가지', '시설구기자', '시설오이', '시설채소',\n       '시설호박', '쌀', '쌈채', '쌈채소', '쑥', '아로니아', '알로에', '애호박', '양배추', '양봉꿀',\n       '양송이', '양채류', '양파', '연근', '오디', '오미자', '오이', '옥수수', '울금', '원예',\n       '월동무', '유자', '인삼', '일반계', '일반미', '일반부추', '일반율무', '잎들깨', '자두', '장미',\n       '절임배추', '조생양파', '쥬키니호박', '쪽파', '찰옥수수', '참다래', '참외', '천혜향', '청상추',\n       '청초', '청포도', '체리', '취나물', '친환경 제철 꾸러미', '콩', '털복숭아', '토마토', '파프리카',\n       '포도', '표고버섯', '풋고추', '풋마늘', '하우스감귤', '한라봉', '한우', '호박', '홍고추',\n       '홍삼포크', '화훼', '황기', '후지'], dtype='<U10')"
     },
     "execution_count": 640,
     "metadata": {},
     "output_type": "execute_result"
    }
   ],
   "source": [
    "print(len(np.unique(list(c_data['품목']))))\n",
    "np.unique(list(c_data['품목']))"
   ],
   "metadata": {
    "collapsed": false,
    "pycharm": {
     "name": "#%%\n"
    }
   }
  },
  {
   "cell_type": "code",
   "execution_count": 641,
   "outputs": [
    {
     "data": {
      "text/plain": "품목                   object\n부부 가족 경영규모            int32\n연간운영비/년(운영)           int32\n평균수입/년(부부인건비 포함)      int32\n면적당수입               float64\ndtype: object"
     },
     "execution_count": 641,
     "metadata": {},
     "output_type": "execute_result"
    }
   ],
   "source": [
    "c_data['부부 가족 경영규모'] = c_data['부부 가족 경영규모'].astype(int)\n",
    "#c_data['평균투자비(3년합계)'] = c_data['평균투자비(3년합계)'].astype(int)\n",
    "c_data['연간운영비/년(운영)'] = c_data['연간운영비/년(운영)'].astype(int)\n",
    "c_data['평균수입/년(부부인건비 포함)'] = c_data['평균수입/년(부부인건비 포함)'].astype(int)\n",
    "c_data['면적당수입'] = c_data['면적당수입'].astype(float).round(2)\n",
    "c_data.dtypes"
   ],
   "metadata": {
    "collapsed": false,
    "pycharm": {
     "name": "#%%\n"
    }
   }
  },
  {
   "cell_type": "code",
   "execution_count": 642,
   "outputs": [],
   "source": [
    "#c_data['시도'] = pd.Categorical(c_data['시도'])\n",
    "#c_data['시군구'] = pd.Categorical(c_data['시군구'])"
   ],
   "metadata": {
    "collapsed": false,
    "pycharm": {
     "name": "#%%\n"
    }
   }
  },
  {
   "cell_type": "code",
   "execution_count": 643,
   "outputs": [
    {
     "name": "stdout",
     "output_type": "stream",
     "text": [
      "(725, 130)\n"
     ]
    },
    {
     "data": {
      "text/plain": "     부부 가족 경영규모  연간운영비/년(운영)  평균수입/년(부부인건비 포함)     면적당수입  품목_가지  품목_감  품목_감귤  \\\n0          3300     68000000          25000000   7575.76      0     0      0   \n1          4000     23000000          12000000   3000.00      0     0      0   \n2          4000     22000000          10000000   2500.00      0     0      0   \n3          1000      5614138           5940734   5940.73      0     0      0   \n4          4000     60000000         120000000  30000.00      0     0      0   \n..          ...          ...               ...       ...    ...   ...    ...   \n742        5000      5000000          10000000   2000.00      0     0      0   \n743       12000      5000000          25000000   2083.33      0     0      0   \n744        2000     10000000          50000000  25000.00      0     0      0   \n745       15000         3000              2500      0.17      0     0      0   \n746       10000         2500              1000      0.10      0     0      0   \n\n     품목_감자  품목_갓  품목_건고추  ...  품목_풋마늘  품목_하우스감귤  품목_한라봉  품목_한우  품목_호박  품목_홍고추  \\\n0        0     0       0  ...       0         0       0      0      0       0   \n1        0     0       0  ...       0         0       0      0      0       0   \n2        0     0       0  ...       0         0       0      0      0       0   \n3        0     0       0  ...       0         0       0      0      0       0   \n4        0     0       0  ...       0         0       0      0      0       0   \n..     ...   ...     ...  ...     ...       ...     ...    ...    ...     ...   \n742      0     0       0  ...       0         0       0      0      0       0   \n743      0     0       0  ...       0         0       0      0      0       0   \n744      0     0       0  ...       0         0       0      0      0       0   \n745      0     0       0  ...       0         0       0      0      0       0   \n746      0     0       0  ...       0         0       0      0      0       0   \n\n     품목_홍삼포크  품목_화훼  품목_황기  품목_후지  \n0          0      0      0      0  \n1          0      0      0      0  \n2          0      0      0      0  \n3          0      0      0      0  \n4          0      0      0      0  \n..       ...    ...    ...    ...  \n742        0      0      0      0  \n743        0      0      1      0  \n744        0      0      0      0  \n745        0      0      0      0  \n746        0      0      0      0  \n\n[725 rows x 130 columns]",
      "text/html": "<div>\n<style scoped>\n    .dataframe tbody tr th:only-of-type {\n        vertical-align: middle;\n    }\n\n    .dataframe tbody tr th {\n        vertical-align: top;\n    }\n\n    .dataframe thead th {\n        text-align: right;\n    }\n</style>\n<table border=\"1\" class=\"dataframe\">\n  <thead>\n    <tr style=\"text-align: right;\">\n      <th></th>\n      <th>부부 가족 경영규모</th>\n      <th>연간운영비/년(운영)</th>\n      <th>평균수입/년(부부인건비 포함)</th>\n      <th>면적당수입</th>\n      <th>품목_가지</th>\n      <th>품목_감</th>\n      <th>품목_감귤</th>\n      <th>품목_감자</th>\n      <th>품목_갓</th>\n      <th>품목_건고추</th>\n      <th>...</th>\n      <th>품목_풋마늘</th>\n      <th>품목_하우스감귤</th>\n      <th>품목_한라봉</th>\n      <th>품목_한우</th>\n      <th>품목_호박</th>\n      <th>품목_홍고추</th>\n      <th>품목_홍삼포크</th>\n      <th>품목_화훼</th>\n      <th>품목_황기</th>\n      <th>품목_후지</th>\n    </tr>\n  </thead>\n  <tbody>\n    <tr>\n      <th>0</th>\n      <td>3300</td>\n      <td>68000000</td>\n      <td>25000000</td>\n      <td>7575.76</td>\n      <td>0</td>\n      <td>0</td>\n      <td>0</td>\n      <td>0</td>\n      <td>0</td>\n      <td>0</td>\n      <td>...</td>\n      <td>0</td>\n      <td>0</td>\n      <td>0</td>\n      <td>0</td>\n      <td>0</td>\n      <td>0</td>\n      <td>0</td>\n      <td>0</td>\n      <td>0</td>\n      <td>0</td>\n    </tr>\n    <tr>\n      <th>1</th>\n      <td>4000</td>\n      <td>23000000</td>\n      <td>12000000</td>\n      <td>3000.00</td>\n      <td>0</td>\n      <td>0</td>\n      <td>0</td>\n      <td>0</td>\n      <td>0</td>\n      <td>0</td>\n      <td>...</td>\n      <td>0</td>\n      <td>0</td>\n      <td>0</td>\n      <td>0</td>\n      <td>0</td>\n      <td>0</td>\n      <td>0</td>\n      <td>0</td>\n      <td>0</td>\n      <td>0</td>\n    </tr>\n    <tr>\n      <th>2</th>\n      <td>4000</td>\n      <td>22000000</td>\n      <td>10000000</td>\n      <td>2500.00</td>\n      <td>0</td>\n      <td>0</td>\n      <td>0</td>\n      <td>0</td>\n      <td>0</td>\n      <td>0</td>\n      <td>...</td>\n      <td>0</td>\n      <td>0</td>\n      <td>0</td>\n      <td>0</td>\n      <td>0</td>\n      <td>0</td>\n      <td>0</td>\n      <td>0</td>\n      <td>0</td>\n      <td>0</td>\n    </tr>\n    <tr>\n      <th>3</th>\n      <td>1000</td>\n      <td>5614138</td>\n      <td>5940734</td>\n      <td>5940.73</td>\n      <td>0</td>\n      <td>0</td>\n      <td>0</td>\n      <td>0</td>\n      <td>0</td>\n      <td>0</td>\n      <td>...</td>\n      <td>0</td>\n      <td>0</td>\n      <td>0</td>\n      <td>0</td>\n      <td>0</td>\n      <td>0</td>\n      <td>0</td>\n      <td>0</td>\n      <td>0</td>\n      <td>0</td>\n    </tr>\n    <tr>\n      <th>4</th>\n      <td>4000</td>\n      <td>60000000</td>\n      <td>120000000</td>\n      <td>30000.00</td>\n      <td>0</td>\n      <td>0</td>\n      <td>0</td>\n      <td>0</td>\n      <td>0</td>\n      <td>0</td>\n      <td>...</td>\n      <td>0</td>\n      <td>0</td>\n      <td>0</td>\n      <td>0</td>\n      <td>0</td>\n      <td>0</td>\n      <td>0</td>\n      <td>0</td>\n      <td>0</td>\n      <td>0</td>\n    </tr>\n    <tr>\n      <th>...</th>\n      <td>...</td>\n      <td>...</td>\n      <td>...</td>\n      <td>...</td>\n      <td>...</td>\n      <td>...</td>\n      <td>...</td>\n      <td>...</td>\n      <td>...</td>\n      <td>...</td>\n      <td>...</td>\n      <td>...</td>\n      <td>...</td>\n      <td>...</td>\n      <td>...</td>\n      <td>...</td>\n      <td>...</td>\n      <td>...</td>\n      <td>...</td>\n      <td>...</td>\n      <td>...</td>\n    </tr>\n    <tr>\n      <th>742</th>\n      <td>5000</td>\n      <td>5000000</td>\n      <td>10000000</td>\n      <td>2000.00</td>\n      <td>0</td>\n      <td>0</td>\n      <td>0</td>\n      <td>0</td>\n      <td>0</td>\n      <td>0</td>\n      <td>...</td>\n      <td>0</td>\n      <td>0</td>\n      <td>0</td>\n      <td>0</td>\n      <td>0</td>\n      <td>0</td>\n      <td>0</td>\n      <td>0</td>\n      <td>0</td>\n      <td>0</td>\n    </tr>\n    <tr>\n      <th>743</th>\n      <td>12000</td>\n      <td>5000000</td>\n      <td>25000000</td>\n      <td>2083.33</td>\n      <td>0</td>\n      <td>0</td>\n      <td>0</td>\n      <td>0</td>\n      <td>0</td>\n      <td>0</td>\n      <td>...</td>\n      <td>0</td>\n      <td>0</td>\n      <td>0</td>\n      <td>0</td>\n      <td>0</td>\n      <td>0</td>\n      <td>0</td>\n      <td>0</td>\n      <td>1</td>\n      <td>0</td>\n    </tr>\n    <tr>\n      <th>744</th>\n      <td>2000</td>\n      <td>10000000</td>\n      <td>50000000</td>\n      <td>25000.00</td>\n      <td>0</td>\n      <td>0</td>\n      <td>0</td>\n      <td>0</td>\n      <td>0</td>\n      <td>0</td>\n      <td>...</td>\n      <td>0</td>\n      <td>0</td>\n      <td>0</td>\n      <td>0</td>\n      <td>0</td>\n      <td>0</td>\n      <td>0</td>\n      <td>0</td>\n      <td>0</td>\n      <td>0</td>\n    </tr>\n    <tr>\n      <th>745</th>\n      <td>15000</td>\n      <td>3000</td>\n      <td>2500</td>\n      <td>0.17</td>\n      <td>0</td>\n      <td>0</td>\n      <td>0</td>\n      <td>0</td>\n      <td>0</td>\n      <td>0</td>\n      <td>...</td>\n      <td>0</td>\n      <td>0</td>\n      <td>0</td>\n      <td>0</td>\n      <td>0</td>\n      <td>0</td>\n      <td>0</td>\n      <td>0</td>\n      <td>0</td>\n      <td>0</td>\n    </tr>\n    <tr>\n      <th>746</th>\n      <td>10000</td>\n      <td>2500</td>\n      <td>1000</td>\n      <td>0.10</td>\n      <td>0</td>\n      <td>0</td>\n      <td>0</td>\n      <td>0</td>\n      <td>0</td>\n      <td>0</td>\n      <td>...</td>\n      <td>0</td>\n      <td>0</td>\n      <td>0</td>\n      <td>0</td>\n      <td>0</td>\n      <td>0</td>\n      <td>0</td>\n      <td>0</td>\n      <td>0</td>\n      <td>0</td>\n    </tr>\n  </tbody>\n</table>\n<p>725 rows × 130 columns</p>\n</div>"
     },
     "execution_count": 643,
     "metadata": {},
     "output_type": "execute_result"
    }
   ],
   "source": [
    "c_data = pd.get_dummies(c_data, prefix_sep='_', drop_first=True)\n",
    "print(c_data.shape)\n",
    "c_data"
   ],
   "metadata": {
    "collapsed": false,
    "pycharm": {
     "name": "#%%\n"
    }
   }
  },
  {
   "cell_type": "code",
   "execution_count": 644,
   "outputs": [
    {
     "data": {
      "text/plain": "<Figure size 1152x288 with 4 Axes>",
      "image/png": "[encoded data removed]"
     },
     "metadata": {
      "needs_background": "light"
     },
     "output_type": "display_data"
    }
   ],
   "source": [
    "fig, ax = plt.subplots(1, 4, figsize=(16,4))\n",
    "ax[0].boxplot(list(c_data['부부 가족 경영규모']))\n",
    "ax[1].boxplot(list(c_data['연간운영비/년(운영)']))\n",
    "ax[2].boxplot(list(c_data['평균수입/년(부부인건비 포함)']))\n",
    "ax[3].boxplot(list(c_data['면적당수입']))\n",
    "plt.show()"
   ],
   "metadata": {
    "collapsed": false,
    "pycharm": {
     "name": "#%%\n"
    }
   }
  },
  {
   "cell_type": "code",
   "execution_count": 645,
   "outputs": [
    {
     "name": "stderr",
     "output_type": "stream",
     "text": [
      "c:\\users\\user\\appdata\\local\\programs\\python\\python39\\lib\\site-packages\\matplotlib\\backends\\backend_agg.py:238: RuntimeWarning: Glyph 50672 missing from current font.\n",
      "  font.set_text(s, 0.0, flags=flags)\n",
      "c:\\users\\user\\appdata\\local\\programs\\python\\python39\\lib\\site-packages\\matplotlib\\backends\\backend_agg.py:238: RuntimeWarning: Glyph 44036 missing from current font.\n",
      "  font.set_text(s, 0.0, flags=flags)\n",
      "c:\\users\\user\\appdata\\local\\programs\\python\\python39\\lib\\site-packages\\matplotlib\\backends\\backend_agg.py:238: RuntimeWarning: Glyph 50868 missing from current font.\n",
      "  font.set_text(s, 0.0, flags=flags)\n",
      "c:\\users\\user\\appdata\\local\\programs\\python\\python39\\lib\\site-packages\\matplotlib\\backends\\backend_agg.py:238: RuntimeWarning: Glyph 50689 missing from current font.\n",
      "  font.set_text(s, 0.0, flags=flags)\n",
      "c:\\users\\user\\appdata\\local\\programs\\python\\python39\\lib\\site-packages\\matplotlib\\backends\\backend_agg.py:238: RuntimeWarning: Glyph 48708 missing from current font.\n",
      "  font.set_text(s, 0.0, flags=flags)\n",
      "c:\\users\\user\\appdata\\local\\programs\\python\\python39\\lib\\site-packages\\matplotlib\\backends\\backend_agg.py:238: RuntimeWarning: Glyph 45380 missing from current font.\n",
      "  font.set_text(s, 0.0, flags=flags)\n",
      "c:\\users\\user\\appdata\\local\\programs\\python\\python39\\lib\\site-packages\\matplotlib\\backends\\backend_agg.py:238: RuntimeWarning: Glyph 48512 missing from current font.\n",
      "  font.set_text(s, 0.0, flags=flags)\n",
      "c:\\users\\user\\appdata\\local\\programs\\python\\python39\\lib\\site-packages\\matplotlib\\backends\\backend_agg.py:238: RuntimeWarning: Glyph 44032 missing from current font.\n",
      "  font.set_text(s, 0.0, flags=flags)\n",
      "c:\\users\\user\\appdata\\local\\programs\\python\\python39\\lib\\site-packages\\matplotlib\\backends\\backend_agg.py:238: RuntimeWarning: Glyph 51313 missing from current font.\n",
      "  font.set_text(s, 0.0, flags=flags)\n",
      "c:\\users\\user\\appdata\\local\\programs\\python\\python39\\lib\\site-packages\\matplotlib\\backends\\backend_agg.py:238: RuntimeWarning: Glyph 44221 missing from current font.\n",
      "  font.set_text(s, 0.0, flags=flags)\n",
      "c:\\users\\user\\appdata\\local\\programs\\python\\python39\\lib\\site-packages\\matplotlib\\backends\\backend_agg.py:238: RuntimeWarning: Glyph 44508 missing from current font.\n",
      "  font.set_text(s, 0.0, flags=flags)\n",
      "c:\\users\\user\\appdata\\local\\programs\\python\\python39\\lib\\site-packages\\matplotlib\\backends\\backend_agg.py:238: RuntimeWarning: Glyph 47784 missing from current font.\n",
      "  font.set_text(s, 0.0, flags=flags)\n",
      "c:\\users\\user\\appdata\\local\\programs\\python\\python39\\lib\\site-packages\\matplotlib\\backends\\backend_agg.py:238: RuntimeWarning: Glyph 54217 missing from current font.\n",
      "  font.set_text(s, 0.0, flags=flags)\n",
      "c:\\users\\user\\appdata\\local\\programs\\python\\python39\\lib\\site-packages\\matplotlib\\backends\\backend_agg.py:238: RuntimeWarning: Glyph 44512 missing from current font.\n",
      "  font.set_text(s, 0.0, flags=flags)\n",
      "c:\\users\\user\\appdata\\local\\programs\\python\\python39\\lib\\site-packages\\matplotlib\\backends\\backend_agg.py:238: RuntimeWarning: Glyph 49688 missing from current font.\n",
      "  font.set_text(s, 0.0, flags=flags)\n",
      "c:\\users\\user\\appdata\\local\\programs\\python\\python39\\lib\\site-packages\\matplotlib\\backends\\backend_agg.py:238: RuntimeWarning: Glyph 51077 missing from current font.\n",
      "  font.set_text(s, 0.0, flags=flags)\n",
      "c:\\users\\user\\appdata\\local\\programs\\python\\python39\\lib\\site-packages\\matplotlib\\backends\\backend_agg.py:238: RuntimeWarning: Glyph 51064 missing from current font.\n",
      "  font.set_text(s, 0.0, flags=flags)\n",
      "c:\\users\\user\\appdata\\local\\programs\\python\\python39\\lib\\site-packages\\matplotlib\\backends\\backend_agg.py:238: RuntimeWarning: Glyph 44148 missing from current font.\n",
      "  font.set_text(s, 0.0, flags=flags)\n",
      "c:\\users\\user\\appdata\\local\\programs\\python\\python39\\lib\\site-packages\\matplotlib\\backends\\backend_agg.py:238: RuntimeWarning: Glyph 54252 missing from current font.\n",
      "  font.set_text(s, 0.0, flags=flags)\n",
      "c:\\users\\user\\appdata\\local\\programs\\python\\python39\\lib\\site-packages\\matplotlib\\backends\\backend_agg.py:238: RuntimeWarning: Glyph 54632 missing from current font.\n",
      "  font.set_text(s, 0.0, flags=flags)\n",
      "c:\\users\\user\\appdata\\local\\programs\\python\\python39\\lib\\site-packages\\matplotlib\\backends\\backend_agg.py:238: RuntimeWarning: Glyph 47732 missing from current font.\n",
      "  font.set_text(s, 0.0, flags=flags)\n",
      "c:\\users\\user\\appdata\\local\\programs\\python\\python39\\lib\\site-packages\\matplotlib\\backends\\backend_agg.py:238: RuntimeWarning: Glyph 51201 missing from current font.\n",
      "  font.set_text(s, 0.0, flags=flags)\n",
      "c:\\users\\user\\appdata\\local\\programs\\python\\python39\\lib\\site-packages\\matplotlib\\backends\\backend_agg.py:238: RuntimeWarning: Glyph 45817 missing from current font.\n",
      "  font.set_text(s, 0.0, flags=flags)\n",
      "c:\\users\\user\\appdata\\local\\programs\\python\\python39\\lib\\site-packages\\matplotlib\\backends\\backend_agg.py:238: RuntimeWarning: Glyph 50672 missing from current font.\n",
      "  font.set_text(s, 0.0, flags=flags)\n",
      "c:\\users\\user\\appdata\\local\\programs\\python\\python39\\lib\\site-packages\\matplotlib\\backends\\backend_agg.py:238: RuntimeWarning: Glyph 44036 missing from current font.\n",
      "  font.set_text(s, 0.0, flags=flags)\n",
      "c:\\users\\user\\appdata\\local\\programs\\python\\python39\\lib\\site-packages\\matplotlib\\backends\\backend_agg.py:238: RuntimeWarning: Glyph 50868 missing from current font.\n",
      "  font.set_text(s, 0.0, flags=flags)\n",
      "c:\\users\\user\\appdata\\local\\programs\\python\\python39\\lib\\site-packages\\matplotlib\\backends\\backend_agg.py:238: RuntimeWarning: Glyph 50689 missing from current font.\n",
      "  font.set_text(s, 0.0, flags=flags)\n",
      "c:\\users\\user\\appdata\\local\\programs\\python\\python39\\lib\\site-packages\\matplotlib\\backends\\backend_agg.py:238: RuntimeWarning: Glyph 48708 missing from current font.\n",
      "  font.set_text(s, 0.0, flags=flags)\n",
      "c:\\users\\user\\appdata\\local\\programs\\python\\python39\\lib\\site-packages\\matplotlib\\backends\\backend_agg.py:238: RuntimeWarning: Glyph 45380 missing from current font.\n",
      "  font.set_text(s, 0.0, flags=flags)\n",
      "c:\\users\\user\\appdata\\local\\programs\\python\\python39\\lib\\site-packages\\matplotlib\\backends\\backend_agg.py:238: RuntimeWarning: Glyph 48512 missing from current font.\n",
      "  font.set_text(s, 0.0, flags=flags)\n",
      "c:\\users\\user\\appdata\\local\\programs\\python\\python39\\lib\\site-packages\\matplotlib\\backends\\backend_agg.py:238: RuntimeWarning: Glyph 44032 missing from current font.\n",
      "  font.set_text(s, 0.0, flags=flags)\n",
      "c:\\users\\user\\appdata\\local\\programs\\python\\python39\\lib\\site-packages\\matplotlib\\backends\\backend_agg.py:238: RuntimeWarning: Glyph 51313 missing from current font.\n",
      "  font.set_text(s, 0.0, flags=flags)\n",
      "c:\\users\\user\\appdata\\local\\programs\\python\\python39\\lib\\site-packages\\matplotlib\\backends\\backend_agg.py:238: RuntimeWarning: Glyph 44221 missing from current font.\n",
      "  font.set_text(s, 0.0, flags=flags)\n",
      "c:\\users\\user\\appdata\\local\\programs\\python\\python39\\lib\\site-packages\\matplotlib\\backends\\backend_agg.py:238: RuntimeWarning: Glyph 44508 missing from current font.\n",
      "  font.set_text(s, 0.0, flags=flags)\n",
      "c:\\users\\user\\appdata\\local\\programs\\python\\python39\\lib\\site-packages\\matplotlib\\backends\\backend_agg.py:238: RuntimeWarning: Glyph 47784 missing from current font.\n",
      "  font.set_text(s, 0.0, flags=flags)\n",
      "c:\\users\\user\\appdata\\local\\programs\\python\\python39\\lib\\site-packages\\matplotlib\\backends\\backend_agg.py:238: RuntimeWarning: Glyph 54217 missing from current font.\n",
      "  font.set_text(s, 0.0, flags=flags)\n",
      "c:\\users\\user\\appdata\\local\\programs\\python\\python39\\lib\\site-packages\\matplotlib\\backends\\backend_agg.py:238: RuntimeWarning: Glyph 44512 missing from current font.\n",
      "  font.set_text(s, 0.0, flags=flags)\n",
      "c:\\users\\user\\appdata\\local\\programs\\python\\python39\\lib\\site-packages\\matplotlib\\backends\\backend_agg.py:238: RuntimeWarning: Glyph 49688 missing from current font.\n",
      "  font.set_text(s, 0.0, flags=flags)\n",
      "c:\\users\\user\\appdata\\local\\programs\\python\\python39\\lib\\site-packages\\matplotlib\\backends\\backend_agg.py:238: RuntimeWarning: Glyph 51077 missing from current font.\n",
      "  font.set_text(s, 0.0, flags=flags)\n",
      "c:\\users\\user\\appdata\\local\\programs\\python\\python39\\lib\\site-packages\\matplotlib\\backends\\backend_agg.py:238: RuntimeWarning: Glyph 51064 missing from current font.\n",
      "  font.set_text(s, 0.0, flags=flags)\n",
      "c:\\users\\user\\appdata\\local\\programs\\python\\python39\\lib\\site-packages\\matplotlib\\backends\\backend_agg.py:238: RuntimeWarning: Glyph 44148 missing from current font.\n",
      "  font.set_text(s, 0.0, flags=flags)\n",
      "c:\\users\\user\\appdata\\local\\programs\\python\\python39\\lib\\site-packages\\matplotlib\\backends\\backend_agg.py:238: RuntimeWarning: Glyph 54252 missing from current font.\n",
      "  font.set_text(s, 0.0, flags=flags)\n",
      "c:\\users\\user\\appdata\\local\\programs\\python\\python39\\lib\\site-packages\\matplotlib\\backends\\backend_agg.py:238: RuntimeWarning: Glyph 54632 missing from current font.\n",
      "  font.set_text(s, 0.0, flags=flags)\n",
      "c:\\users\\user\\appdata\\local\\programs\\python\\python39\\lib\\site-packages\\matplotlib\\backends\\backend_agg.py:238: RuntimeWarning: Glyph 47732 missing from current font.\n",
      "  font.set_text(s, 0.0, flags=flags)\n",
      "c:\\users\\user\\appdata\\local\\programs\\python\\python39\\lib\\site-packages\\matplotlib\\backends\\backend_agg.py:238: RuntimeWarning: Glyph 51201 missing from current font.\n",
      "  font.set_text(s, 0.0, flags=flags)\n",
      "c:\\users\\user\\appdata\\local\\programs\\python\\python39\\lib\\site-packages\\matplotlib\\backends\\backend_agg.py:238: RuntimeWarning: Glyph 45817 missing from current font.\n",
      "  font.set_text(s, 0.0, flags=flags)\n",
      "c:\\users\\user\\appdata\\local\\programs\\python\\python39\\lib\\site-packages\\matplotlib\\backends\\backend_agg.py:201: RuntimeWarning: Glyph 50672 missing from current font.\n",
      "  font.set_text(s, 0, flags=flags)\n",
      "c:\\users\\user\\appdata\\local\\programs\\python\\python39\\lib\\site-packages\\matplotlib\\backends\\backend_agg.py:201: RuntimeWarning: Glyph 44036 missing from current font.\n",
      "  font.set_text(s, 0, flags=flags)\n",
      "c:\\users\\user\\appdata\\local\\programs\\python\\python39\\lib\\site-packages\\matplotlib\\backends\\backend_agg.py:201: RuntimeWarning: Glyph 50868 missing from current font.\n",
      "  font.set_text(s, 0, flags=flags)\n",
      "c:\\users\\user\\appdata\\local\\programs\\python\\python39\\lib\\site-packages\\matplotlib\\backends\\backend_agg.py:201: RuntimeWarning: Glyph 50689 missing from current font.\n",
      "  font.set_text(s, 0, flags=flags)\n",
      "c:\\users\\user\\appdata\\local\\programs\\python\\python39\\lib\\site-packages\\matplotlib\\backends\\backend_agg.py:201: RuntimeWarning: Glyph 48708 missing from current font.\n",
      "  font.set_text(s, 0, flags=flags)\n",
      "c:\\users\\user\\appdata\\local\\programs\\python\\python39\\lib\\site-packages\\matplotlib\\backends\\backend_agg.py:201: RuntimeWarning: Glyph 45380 missing from current font.\n",
      "  font.set_text(s, 0, flags=flags)\n",
      "c:\\users\\user\\appdata\\local\\programs\\python\\python39\\lib\\site-packages\\matplotlib\\backends\\backend_agg.py:201: RuntimeWarning: Glyph 48512 missing from current font.\n",
      "  font.set_text(s, 0, flags=flags)\n",
      "c:\\users\\user\\appdata\\local\\programs\\python\\python39\\lib\\site-packages\\matplotlib\\backends\\backend_agg.py:201: RuntimeWarning: Glyph 44032 missing from current font.\n",
      "  font.set_text(s, 0, flags=flags)\n",
      "c:\\users\\user\\appdata\\local\\programs\\python\\python39\\lib\\site-packages\\matplotlib\\backends\\backend_agg.py:201: RuntimeWarning: Glyph 51313 missing from current font.\n",
      "  font.set_text(s, 0, flags=flags)\n",
      "c:\\users\\user\\appdata\\local\\programs\\python\\python39\\lib\\site-packages\\matplotlib\\backends\\backend_agg.py:201: RuntimeWarning: Glyph 44221 missing from current font.\n",
      "  font.set_text(s, 0, flags=flags)\n",
      "c:\\users\\user\\appdata\\local\\programs\\python\\python39\\lib\\site-packages\\matplotlib\\backends\\backend_agg.py:201: RuntimeWarning: Glyph 44508 missing from current font.\n",
      "  font.set_text(s, 0, flags=flags)\n",
      "c:\\users\\user\\appdata\\local\\programs\\python\\python39\\lib\\site-packages\\matplotlib\\backends\\backend_agg.py:201: RuntimeWarning: Glyph 47784 missing from current font.\n",
      "  font.set_text(s, 0, flags=flags)\n",
      "c:\\users\\user\\appdata\\local\\programs\\python\\python39\\lib\\site-packages\\matplotlib\\backends\\backend_agg.py:201: RuntimeWarning: Glyph 54217 missing from current font.\n",
      "  font.set_text(s, 0, flags=flags)\n",
      "c:\\users\\user\\appdata\\local\\programs\\python\\python39\\lib\\site-packages\\matplotlib\\backends\\backend_agg.py:201: RuntimeWarning: Glyph 44512 missing from current font.\n",
      "  font.set_text(s, 0, flags=flags)\n",
      "c:\\users\\user\\appdata\\local\\programs\\python\\python39\\lib\\site-packages\\matplotlib\\backends\\backend_agg.py:201: RuntimeWarning: Glyph 49688 missing from current font.\n",
      "  font.set_text(s, 0, flags=flags)\n",
      "c:\\users\\user\\appdata\\local\\programs\\python\\python39\\lib\\site-packages\\matplotlib\\backends\\backend_agg.py:201: RuntimeWarning: Glyph 51077 missing from current font.\n",
      "  font.set_text(s, 0, flags=flags)\n",
      "c:\\users\\user\\appdata\\local\\programs\\python\\python39\\lib\\site-packages\\matplotlib\\backends\\backend_agg.py:201: RuntimeWarning: Glyph 51064 missing from current font.\n",
      "  font.set_text(s, 0, flags=flags)\n",
      "c:\\users\\user\\appdata\\local\\programs\\python\\python39\\lib\\site-packages\\matplotlib\\backends\\backend_agg.py:201: RuntimeWarning: Glyph 44148 missing from current font.\n",
      "  font.set_text(s, 0, flags=flags)\n",
      "c:\\users\\user\\appdata\\local\\programs\\python\\python39\\lib\\site-packages\\matplotlib\\backends\\backend_agg.py:201: RuntimeWarning: Glyph 54252 missing from current font.\n",
      "  font.set_text(s, 0, flags=flags)\n",
      "c:\\users\\user\\appdata\\local\\programs\\python\\python39\\lib\\site-packages\\matplotlib\\backends\\backend_agg.py:201: RuntimeWarning: Glyph 54632 missing from current font.\n",
      "  font.set_text(s, 0, flags=flags)\n",
      "c:\\users\\user\\appdata\\local\\programs\\python\\python39\\lib\\site-packages\\matplotlib\\backends\\backend_agg.py:201: RuntimeWarning: Glyph 47732 missing from current font.\n",
      "  font.set_text(s, 0, flags=flags)\n",
      "c:\\users\\user\\appdata\\local\\programs\\python\\python39\\lib\\site-packages\\matplotlib\\backends\\backend_agg.py:201: RuntimeWarning: Glyph 51201 missing from current font.\n",
      "  font.set_text(s, 0, flags=flags)\n",
      "c:\\users\\user\\appdata\\local\\programs\\python\\python39\\lib\\site-packages\\matplotlib\\backends\\backend_agg.py:201: RuntimeWarning: Glyph 45817 missing from current font.\n",
      "  font.set_text(s, 0, flags=flags)\n"
     ]
    },
    {
     "data": {
      "text/plain": "<Figure size 540x180 with 3 Axes>",
      "image/png": "[encoded data removed]"
     },
     "metadata": {
      "needs_background": "light"
     },
     "output_type": "display_data"
    }
   ],
   "source": [
    "#c_data.iloc[:,[0,1,2]]\n",
    "#ax = plt.subplots(figsize=(2, 16))\n",
    "#ax = sns.pairplot(data=c_data, x_vars=c_data.iloc[:,[2]], y_vars=c_data['부부 가족 경영규모'])\n",
    "sns.pairplot(data=c_data, x_vars=['연간운영비/년(운영)','평균수입/년(부부인건비 포함)', '면적당수입'], y_vars=['부부 가족 경영규모'])\n",
    "plt.show()"
   ],
   "metadata": {
    "collapsed": false,
    "pycharm": {
     "name": "#%%\n"
    }
   }
  },
  {
   "cell_type": "code",
   "execution_count": 646,
   "outputs": [],
   "source": [
    "y = c_data.iloc[:,[0]].to_numpy()\n",
    "c_data = c_data.drop(columns=['부부 가족 경영규모'])"
   ],
   "metadata": {
    "collapsed": false,
    "pycharm": {
     "name": "#%%\n"
    }
   }
  },
  {
   "cell_type": "code",
   "execution_count": 647,
   "outputs": [
    {
     "data": {
      "text/plain": "array([[6.80000e+07, 2.50000e+07, 7.57576e+03, ..., 0.00000e+00,\n        0.00000e+00, 0.00000e+00],\n       [2.30000e+07, 1.20000e+07, 3.00000e+03, ..., 0.00000e+00,\n        0.00000e+00, 0.00000e+00],\n       [2.20000e+07, 1.00000e+07, 2.50000e+03, ..., 0.00000e+00,\n        0.00000e+00, 0.00000e+00],\n       ...,\n       [1.00000e+07, 5.00000e+07, 2.50000e+04, ..., 0.00000e+00,\n        0.00000e+00, 0.00000e+00],\n       [3.00000e+03, 2.50000e+03, 1.70000e-01, ..., 0.00000e+00,\n        0.00000e+00, 0.00000e+00],\n       [2.50000e+03, 1.00000e+03, 1.00000e-01, ..., 0.00000e+00,\n        0.00000e+00, 0.00000e+00]])"
     },
     "execution_count": 647,
     "metadata": {},
     "output_type": "execute_result"
    }
   ],
   "source": [
    "x = c_data\n",
    "w = c_data.iloc[:,[0]]\n",
    "e = c_data.iloc[:,[1]]\n",
    "r = c_data.iloc[:,[2]]\n",
    "# columns = c_data.columns\n",
    "#\n",
    "# scaler = preprocessing.MinMaxScaler()\n",
    "# tmp = scaler.fit_transform(x)\n",
    "# c_data = pd.DataFrame(tmp)\n",
    "# c_data.columns = columns\n",
    "#\n",
    "x = c_data.to_numpy()\n",
    "x"
   ],
   "metadata": {
    "collapsed": false,
    "pycharm": {
     "name": "#%%\n"
    }
   }
  },
  {
   "cell_type": "code",
   "execution_count": 648,
   "outputs": [
    {
     "data": {
      "text/plain": "(580, 129)"
     },
     "execution_count": 648,
     "metadata": {},
     "output_type": "execute_result"
    }
   ],
   "source": [
    "x_train, x_test, y_train, y_test = train_test_split(x, y, train_size=0.80, random_state=0)\n",
    "x_train.shape"
   ],
   "metadata": {
    "collapsed": false,
    "pycharm": {
     "name": "#%%\n"
    }
   }
  },
  {
   "cell_type": "code",
   "execution_count": 649,
   "outputs": [
    {
     "data": {
      "text/plain": "LinearRegression(normalize=True)"
     },
     "execution_count": 649,
     "metadata": {},
     "output_type": "execute_result"
    }
   ],
   "source": [
    "lr = LinearRegression(fit_intercept=True, normalize=True, copy_X=True)\n",
    "lr.fit(x_train, y_train)"
   ],
   "metadata": {
    "collapsed": false,
    "pycharm": {
     "name": "#%%\n"
    }
   }
  },
  {
   "cell_type": "code",
   "execution_count": 650,
   "outputs": [
    {
     "name": "stdout",
     "output_type": "stream",
     "text": [
      "Train dats's Accuracy :  0.4392410598192438\n"
     ]
    },
    {
     "data": {
      "text/plain": "array([[  2988],\n       [  3000],\n       [   792],\n       [  2644],\n       [  5940],\n       [  3000],\n       [  4800],\n       [  1650],\n       [  4950],\n       [ 10000],\n       [   600],\n       [  3960],\n       [  7000],\n       [  1000],\n       [  7920],\n       [  2000],\n       [  3600],\n       [ 10000],\n       [ 10000],\n       [ 10000],\n       [  3300],\n       [  2000],\n       [  2310],\n       [  4500],\n       [  1000],\n       [  8000],\n       [  1000],\n       [  3305],\n       [  3300],\n       [  3000],\n       [ 20000],\n       [ 20000],\n       [  5000],\n       [ 12500],\n       [  1980],\n       [  3300],\n       [  5850],\n       [  2000],\n       [  1800],\n       [  1070],\n       [ 10000],\n       [  4400],\n       [  1000],\n       [  3300],\n       [  1980],\n       [  8200],\n       [ 10000],\n       [  3300],\n       [  1975],\n       [  3000],\n       [  4800],\n       [  3300],\n       [  4500],\n       [  3000],\n       [  4000],\n       [  9166],\n       [  5000],\n       [  2700],\n       [  6000],\n       [ 12000],\n       [  1980],\n       [  4000],\n       [  1000],\n       [  4000],\n       [  3000],\n       [ 10000],\n       [ 20000],\n       [  3300],\n       [ 20000],\n       [  6600],\n       [  9559],\n       [  2907],\n       [  3300],\n       [  4960],\n       [  3300],\n       [  6600],\n       [  6400],\n       [  2566],\n       [  4400],\n       [  6000],\n       [  1054],\n       [  2500],\n       [  3630],\n       [  2000],\n       [  3300],\n       [  3993],\n       [  1000],\n       [ 10000],\n       [  1000],\n       [ 16500],\n       [  4000],\n       [ 15000],\n       [ 10000],\n       [  3933],\n       [  6600],\n       [ 42975],\n       [ 12000],\n       [  2000],\n       [   330],\n       [  6600],\n       [  1000],\n       [  6600],\n       [   500],\n       [  8870],\n       [  3000],\n       [ 11000],\n       [  9900],\n       [  6000],\n       [  4200],\n       [  2970],\n       [   500],\n       [  3300],\n       [ 10000],\n       [  3000],\n       [  3300],\n       [  1320],\n       [    50],\n       [ 10000],\n       [  3600],\n       [  5000],\n       [  6400],\n       [  1000],\n       [  1000],\n       [  1980],\n       [  4500],\n       [ 20000],\n       [  2640],\n       [  3300],\n       [  3960],\n       [  3300],\n       [  7000],\n       [  3300],\n       [  5000],\n       [   600],\n       [ 10000],\n       [  2500],\n       [  4500],\n       [  1650],\n       [ 10000],\n       [  3300],\n       [  1960],\n       [  3000],\n       [  2700],\n       [  1000],\n       [  4643],\n       [ 10000],\n       [  9900],\n       [  1980],\n       [  6500],\n       [  3200],\n       [  2666],\n       [  1000],\n       [  6600],\n       [  3000],\n       [ 11000],\n       [  5000],\n       [   231],\n       [    10],\n       [  5960],\n       [  3300],\n       [  4807],\n       [  1200],\n       [ 10000],\n       [  4000],\n       [  6000],\n       [  3300],\n       [ 10000],\n       [  1000],\n       [  2500],\n       [ 12000],\n       [  6000],\n       [  1000],\n       [  3000],\n       [  3500],\n       [  1984],\n       [  3960],\n       [  2000],\n       [  1200],\n       [  3960],\n       [ 10000],\n       [  5000],\n       [  2000],\n       [  5000],\n       [  9900],\n       [  6600],\n       [  5000],\n       [  5000],\n       [ 10000],\n       [  5950],\n       [  2280],\n       [  3000],\n       [  2000],\n       [  5000],\n       [  4000],\n       [  3000],\n       [  2000],\n       [  1300],\n       [  1000],\n       [  9900],\n       [    80],\n       [ 10000],\n       [  6000],\n       [  1000],\n       [  1000],\n       [  5000],\n       [ 20465],\n       [  2000],\n       [  5400],\n       [  6000],\n       [ 10000],\n       [  3000],\n       [  6600],\n       [  3000],\n       [  5000],\n       [  3600],\n       [ 69300],\n       [  2000],\n       [  6000],\n       [  3000],\n       [  3300],\n       [ 10000],\n       [  6840],\n       [  5000],\n       [  4560],\n       [ 33000],\n       [ 10000],\n       [  3900],\n       [   100],\n       [  3000],\n       [  6500],\n       [  6600],\n       [  3300],\n       [  1000],\n       [  5940],\n       [  2000],\n       [ 10000],\n       [  2687],\n       [  2000],\n       [  5000],\n       [    10],\n       [  3960],\n       [  4500],\n       [  3300],\n       [  1000],\n       [  4500],\n       [ 10000],\n       [  3300],\n       [  1000],\n       [  6600],\n       [   231],\n       [  3000],\n       [  2000],\n       [  6000],\n       [  2000],\n       [  6600],\n       [  1320],\n       [  7000],\n       [ 16528],\n       [    50],\n       [  2700],\n       [  3300],\n       [  5960],\n       [ 40000],\n       [  2600],\n       [  4000],\n       [  2640],\n       [  2100],\n       [  5000],\n       [ 20000],\n       [  1320],\n       [    80],\n       [ 10000],\n       [ 50000],\n       [ 33000],\n       [  4950],\n       [  5000],\n       [  2640],\n       [  3000],\n       [    50],\n       [ 10000],\n       [  4800],\n       [  2000],\n       [  2640],\n       [  5850],\n       [  2640],\n       [  2000],\n       [  5000],\n       [  4000],\n       [  4300],\n       [ 16528],\n       [126500],\n       [  7024],\n       [ 10000],\n       [ 49500],\n       [  2000],\n       [  2310],\n       [  5000],\n       [  2000],\n       [  5202],\n       [  2000],\n       [  8000],\n       [  5000],\n       [  3960],\n       [ 15000],\n       [  5000],\n       [  1500],\n       [  5600],\n       [  6400],\n       [ 10000],\n       [  1000],\n       [  3534],\n       [  3630],\n       [ 66000],\n       [  7024],\n       [  5000],\n       [  6600],\n       [  2970],\n       [   330],\n       [ 33000],\n       [  1000],\n       [ 10000],\n       [  4000],\n       [  3300],\n       [ 20000],\n       [   660],\n       [  9900],\n       [ 16530],\n       [  1650],\n       [  1000],\n       [ 39600],\n       [  1000],\n       [  3300],\n       [  1197],\n       [  3300],\n       [  3960],\n       [ 10000],\n       [  9900],\n       [  3000],\n       [  3000],\n       [  1652],\n       [  2314],\n       [  2640],\n       [ 10000],\n       [  1800],\n       [  1000],\n       [ 15000],\n       [  8900],\n       [  8250],\n       [  4000],\n       [  1000],\n       [  2640],\n       [  1320],\n       [  1839],\n       [  1500],\n       [  3300],\n       [  3300],\n       [  1650],\n       [ 20000],\n       [  3300],\n       [  1975],\n       [  1980],\n       [  8000],\n       [  2960],\n       [  3760],\n       [  4000],\n       [  3000],\n       [  1000],\n       [  3300],\n       [  3300],\n       [ 10000],\n       [ 40000],\n       [  1500],\n       [  3000],\n       [ 50000],\n       [  2000],\n       [   792],\n       [  2025],\n       [  4800],\n       [  2000],\n       [ 10000],\n       [  4000],\n       [  1320],\n       [ 10000],\n       [ 10000],\n       [  6600],\n       [  1000],\n       [  8000],\n       [  5000],\n       [  3300],\n       [ 14876],\n       [  2000],\n       [  5000],\n       [  6600],\n       [  2314],\n       [ 10000],\n       [  5004],\n       [ 10794],\n       [  2700],\n       [  3300],\n       [  2600],\n       [  5950],\n       [200000],\n       [  4500],\n       [  1000],\n       [  8250],\n       [ 14850],\n       [  1650],\n       [  6600],\n       [  4000],\n       [  4381],\n       [  1000],\n       [ 10000],\n       [  1000],\n       [  2918],\n       [ 10000],\n       [  6600],\n       [ 12000],\n       [  5000],\n       [  5545],\n       [  6000],\n       [  1320],\n       [  2000],\n       [  5800],\n       [  8000],\n       [ 10000],\n       [  2000],\n       [  2280],\n       [  3960],\n       [  6600],\n       [ 34200],\n       [  4000],\n       [  4000],\n       [  6870],\n       [  3300],\n       [  2644],\n       [  5000],\n       [  4500],\n       [  3300],\n       [  2100],\n       [ 14000],\n       [  2000],\n       [ 16000],\n       [ 66000],\n       [  3000],\n       [  3000],\n       [  2000],\n       [  5000],\n       [  7800],\n       [  3300],\n       [  6400],\n       [    80],\n       [ 10000],\n       [  8400],\n       [  1650],\n       [ 10000],\n       [  6600],\n       [  5000],\n       [   660],\n       [ 42975],\n       [  3300],\n       [  3760],\n       [ 10000],\n       [  3000],\n       [  3000],\n       [   982],\n       [  2000],\n       [  2000],\n       [ 12500],\n       [  3300],\n       [  9900],\n       [  6600],\n       [  3300],\n       [  3000],\n       [  1980],\n       [  3960],\n       [  2644],\n       [ 19800],\n       [ 33900],\n       [  4500],\n       [  1200],\n       [  3000],\n       [ 20000],\n       [  1300],\n       [ 20000],\n       [  2000],\n       [  1320],\n       [  2000],\n       [  9559],\n       [  3300],\n       [  3300],\n       [ 11000],\n       [  1980],\n       [  5940],\n       [  5000],\n       [  1000],\n       [  2644],\n       [ 39600],\n       [  6600],\n       [ 15000],\n       [    50],\n       [  2640],\n       [  3000],\n       [  1980],\n       [  4000],\n       [  3300],\n       [  3902],\n       [  5000],\n       [  2500],\n       [  3400],\n       [  3960],\n       [  2000],\n       [  3300],\n       [  2000],\n       [ 10000],\n       [  3300],\n       [ 13200],\n       [  2400],\n       [  3300],\n       [ 14876],\n       [ 16528],\n       [    37],\n       [    50],\n       [  6600],\n       [  2000],\n       [ 10000],\n       [ 33000],\n       [  2000],\n       [  9900],\n       [ 10000],\n       [  3630],\n       [ 20000],\n       [ 10797],\n       [  1300],\n       [  2000],\n       [  6600],\n       [ 10000],\n       [  3500],\n       [  3300],\n       [  2000],\n       [  4950],\n       [  2000],\n       [  1320],\n       [  1983],\n       [  8250],\n       [  3960],\n       [  3960],\n       [  7800],\n       [  3000],\n       [ 10000],\n       [  6600],\n       [  1983],\n       [  3000],\n       [  3960],\n       [  1000],\n       [  3300],\n       [  6600],\n       [ 14500],\n       [ 66000],\n       [ 10000],\n       [  3300],\n       [ 20000],\n       [  3300],\n       [  6600],\n       [  2000],\n       [ 20000],\n       [ 10000],\n       [  2600],\n       [  3636],\n       [  5000],\n       [    70],\n       [  3300],\n       [  1650],\n       [ 10000],\n       [  2000],\n       [ 10000],\n       [  9166],\n       [  2000],\n       [     2],\n       [  2000],\n       [  1000]])"
     },
     "execution_count": 650,
     "metadata": {},
     "output_type": "execute_result"
    }
   ],
   "source": [
    "print('Train dats\\'s Accuracy : ', format(lr.score(x_train, y_train)))\n",
    "\n",
    "y_train"
   ],
   "metadata": {
    "collapsed": false,
    "pycharm": {
     "name": "#%%\n"
    }
   }
  },
  {
   "cell_type": "code",
   "execution_count": 651,
   "outputs": [
    {
     "name": "stdout",
     "output_type": "stream",
     "text": [
      "Test dats's Accuracy :  -4.969778371759945e+27\n",
      "Test dats's Accuracy :  -4.969778371759945e+27\n"
     ]
    }
   ],
   "source": [
    "y_predict = lr.predict(x_test)\n",
    "print('Test dats\\'s Accuracy : ', format(lr.score(x_test, y_test)))\n",
    "print('Test dats\\'s Accuracy : ', format(r2_score(y_test, lr.predict(x_test))))"
   ],
   "metadata": {
    "collapsed": false,
    "pycharm": {
     "name": "#%%\n"
    }
   }
  },
  {
   "cell_type": "code",
   "execution_count": 652,
   "outputs": [
    {
     "data": {
      "text/plain": "7.899441658103048e+16"
     },
     "execution_count": 652,
     "metadata": {},
     "output_type": "execute_result"
    }
   ],
   "source": [
    "mean_absolute_error(y_test, y_predict)"
   ],
   "metadata": {
    "collapsed": false,
    "pycharm": {
     "name": "#%%\n"
    }
   }
  },
  {
   "cell_type": "code",
   "execution_count": 653,
   "outputs": [
    {
     "name": "stderr",
     "output_type": "stream",
     "text": [
      "<ipython-input-653-69819895e5d4>:3: DataConversionWarning: A column-vector y was passed when a 1d array was expected. Please change the shape of y to (n_samples,), for example using ravel().\n",
      "  rfr.fit(x_train, y_train)\n"
     ]
    },
    {
     "data": {
      "text/plain": "RandomForestRegressor(criterion='mae', n_estimators=50, random_state=42)"
     },
     "execution_count": 653,
     "metadata": {},
     "output_type": "execute_result"
    }
   ],
   "source": [
    "from sklearn.ensemble import RandomForestRegressor\n",
    "rfr = RandomForestRegressor(n_estimators=50, random_state=42, criterion='mae')\n",
    "rfr.fit(x_train, y_train)\n"
   ],
   "metadata": {
    "collapsed": false,
    "pycharm": {
     "name": "#%%\n"
    }
   }
  },
  {
   "cell_type": "code",
   "execution_count": 654,
   "outputs": [
    {
     "name": "stdout",
     "output_type": "stream",
     "text": [
      "Train dats's Accuracy :  0.9384773522847314\n"
     ]
    }
   ],
   "source": [
    "print('Train dats\\'s Accuracy : ', format(rfr.score(x_train, y_train)))"
   ],
   "metadata": {
    "collapsed": false,
    "pycharm": {
     "name": "#%%\n"
    }
   }
  },
  {
   "cell_type": "code",
   "execution_count": 655,
   "outputs": [
    {
     "name": "stdout",
     "output_type": "stream",
     "text": [
      "Test dats's Accuracy :  0.9123056776192513\n",
      "Test dats's Accuracy :  0.9123056776192513\n"
     ]
    }
   ],
   "source": [
    "y_predict = rfr.predict(x_test)\n",
    "print('Test dats\\'s Accuracy : ', format(rfr.score(x_test, y_test)))\n",
    "print('Test dats\\'s Accuracy : ', format(r2_score(y_test, rfr.predict(x_test))))"
   ],
   "metadata": {
    "collapsed": false,
    "pycharm": {
     "name": "#%%\n"
    }
   }
  },
  {
   "cell_type": "code",
   "execution_count": 663,
   "outputs": [
    {
     "data": {
      "text/plain": "array([[1.26000e+06, 1.20000e+07, 6.06061e+03, ..., 0.00000e+00,\n        0.00000e+00, 0.00000e+00],\n       [4.00000e+06, 1.50000e+07, 3.00000e+03, ..., 0.00000e+00,\n        0.00000e+00, 0.00000e+00],\n       [1.20000e+07, 1.00000e+07, 1.00000e+03, ..., 0.00000e+00,\n        0.00000e+00, 0.00000e+00],\n       ...,\n       [1.00000e+07, 3.00000e+07, 6.00000e+03, ..., 0.00000e+00,\n        0.00000e+00, 0.00000e+00],\n       [1.20000e+07, 4.00000e+07, 2.00000e+04, ..., 0.00000e+00,\n        0.00000e+00, 0.00000e+00],\n       [3.00000e+06, 1.50000e+07, 4.54545e+03, ..., 0.00000e+00,\n        0.00000e+00, 0.00000e+00]])"
     },
     "execution_count": 663,
     "metadata": {},
     "output_type": "execute_result"
    }
   ],
   "source": [],
   "metadata": {
    "collapsed": false,
    "pycharm": {
     "name": "#%%\n"
    }
   }
  },
  {
   "cell_type": "code",
   "execution_count": null,
   "outputs": [],
   "source": [],
   "metadata": {
    "collapsed": false,
    "pycharm": {
     "name": "#%%\n"
    }
   }
  }
 ],
 "metadata": {
  "kernelspec": {
   "display_name": "Python 3",
   "language": "python",
   "name": "python3"
  },
  "language_info": {
   "codemirror_mode": {
    "name": "ipython",
    "version": 2
   },
   "file_extension": ".py",
   "mimetype": "text/x-python",
   "name": "python",
   "nbconvert_exporter": "python",
   "pygments_lexer": "ipython2",
   "version": "2.7.6"
  }
 },
 "nbformat": 4,
 "nbformat_minor": 0
}